{
 "cells": [
  {
   "cell_type": "code",
   "execution_count": 1,
   "metadata": {},
   "outputs": [],
   "source": [
    "%load_ext autoreload\n",
    "%autoreload 2"
   ]
  },
  {
   "cell_type": "code",
   "execution_count": 8,
   "metadata": {},
   "outputs": [],
   "source": [
    "from Utils.DataLoader import DataLoader\n",
    "from Utils.DataAnalysis import DataAnalysis\n",
    "from Utils.DataTransformer import DataTransformer\n",
    "import pandas as pd\n",
    "import matplotlib.pyplot as plt\n",
    "from typing import List, Tuple\n",
    "from Utils import PandasNotebookConfigs"
   ]
  },
  {
   "cell_type": "code",
   "execution_count": 9,
   "metadata": {},
   "outputs": [
    {
     "name": "stdout",
     "output_type": "stream",
     "text": [
      "Ajustando display.float.format para %.2f\n"
     ]
    }
   ],
   "source": [
    "DATA_LOADER = DataLoader()\n",
    "DATA_ANALYSIS = DataAnalysis()\n",
    "DATA_TRANSFORMER = DataTransformer()\n",
    "\n",
    "PandasNotebookConfigs.config()"
   ]
  },
  {
   "cell_type": "code",
   "execution_count": 4,
   "metadata": {},
   "outputs": [],
   "source": [
    "user_logs_df = DATA_LOADER.load_user_logs_df()"
   ]
  },
  {
   "cell_type": "code",
   "execution_count": 5,
   "metadata": {},
   "outputs": [],
   "source": [
    "user_logs_df = user_logs_df[:10000].copy()"
   ]
  },
  {
   "cell_type": "code",
   "execution_count": 7,
   "metadata": {},
   "outputs": [
    {
     "data": {
      "text/html": [
       "<div>\n",
       "<style scoped>\n",
       "    .dataframe tbody tr th:only-of-type {\n",
       "        vertical-align: middle;\n",
       "    }\n",
       "\n",
       "    .dataframe tbody tr th {\n",
       "        vertical-align: top;\n",
       "    }\n",
       "\n",
       "    .dataframe thead th {\n",
       "        text-align: right;\n",
       "    }\n",
       "</style>\n",
       "<table border=\"1\" class=\"dataframe\">\n",
       "  <thead>\n",
       "    <tr style=\"text-align: right;\">\n",
       "      <th></th>\n",
       "      <th>msno</th>\n",
       "      <th>safra</th>\n",
       "      <th>num_25</th>\n",
       "      <th>num_50</th>\n",
       "      <th>num_75</th>\n",
       "      <th>num_985</th>\n",
       "      <th>num_100</th>\n",
       "      <th>num_unq</th>\n",
       "      <th>total_secs</th>\n",
       "      <th>total_hours</th>\n",
       "    </tr>\n",
       "  </thead>\n",
       "  <tbody>\n",
       "    <tr>\n",
       "      <th>0</th>\n",
       "      <td>SwlrSivYHoKF9V5wm1YYYAnjHpd9y3OPjI9rDUhGJ3k=</td>\n",
       "      <td>201701</td>\n",
       "      <td>121</td>\n",
       "      <td>28</td>\n",
       "      <td>14</td>\n",
       "      <td>29</td>\n",
       "      <td>704</td>\n",
       "      <td>827</td>\n",
       "      <td>184606</td>\n",
       "      <td>51.28</td>\n",
       "    </tr>\n",
       "    <tr>\n",
       "      <th>1</th>\n",
       "      <td>rE5wSmHEF1Dhu55zhkiGB1HvotdlSHcIMGXv6VcqO2A=</td>\n",
       "      <td>201605</td>\n",
       "      <td>26</td>\n",
       "      <td>2</td>\n",
       "      <td>5</td>\n",
       "      <td>6</td>\n",
       "      <td>462</td>\n",
       "      <td>256</td>\n",
       "      <td>119439</td>\n",
       "      <td>33.18</td>\n",
       "    </tr>\n",
       "    <tr>\n",
       "      <th>2</th>\n",
       "      <td>hx+cyaQ/Jcdr/Z5foa/Cn0PXUzC/F7QO/NQvWQS1Qtc=</td>\n",
       "      <td>201611</td>\n",
       "      <td>161</td>\n",
       "      <td>71</td>\n",
       "      <td>49</td>\n",
       "      <td>34</td>\n",
       "      <td>668</td>\n",
       "      <td>891</td>\n",
       "      <td>204791</td>\n",
       "      <td>56.89</td>\n",
       "    </tr>\n",
       "    <tr>\n",
       "      <th>3</th>\n",
       "      <td>53QW6B70J23X2UCvxaaUppjyE0b6X9nzP79W4huZv+Q=</td>\n",
       "      <td>201502</td>\n",
       "      <td>37</td>\n",
       "      <td>9</td>\n",
       "      <td>3</td>\n",
       "      <td>9</td>\n",
       "      <td>408</td>\n",
       "      <td>447</td>\n",
       "      <td>101186</td>\n",
       "      <td>28.11</td>\n",
       "    </tr>\n",
       "    <tr>\n",
       "      <th>4</th>\n",
       "      <td>/0S1N/oRyxGLZlzxnW5rOjfo0ZAls9EH23ahuDNuqz8=</td>\n",
       "      <td>201506</td>\n",
       "      <td>205</td>\n",
       "      <td>49</td>\n",
       "      <td>23</td>\n",
       "      <td>21</td>\n",
       "      <td>225</td>\n",
       "      <td>489</td>\n",
       "      <td>69957</td>\n",
       "      <td>19.43</td>\n",
       "    </tr>\n",
       "  </tbody>\n",
       "</table>\n",
       "</div>"
      ],
      "text/plain": [
       "                                           msno   safra  num_25  num_50  \\\n",
       "0  SwlrSivYHoKF9V5wm1YYYAnjHpd9y3OPjI9rDUhGJ3k=  201701     121      28   \n",
       "1  rE5wSmHEF1Dhu55zhkiGB1HvotdlSHcIMGXv6VcqO2A=  201605      26       2   \n",
       "2  hx+cyaQ/Jcdr/Z5foa/Cn0PXUzC/F7QO/NQvWQS1Qtc=  201611     161      71   \n",
       "3  53QW6B70J23X2UCvxaaUppjyE0b6X9nzP79W4huZv+Q=  201502      37       9   \n",
       "4  /0S1N/oRyxGLZlzxnW5rOjfo0ZAls9EH23ahuDNuqz8=  201506     205      49   \n",
       "\n",
       "   num_75  num_985  num_100  num_unq  total_secs  total_hours  \n",
       "0      14       29      704      827      184606        51.28  \n",
       "1       5        6      462      256      119439        33.18  \n",
       "2      49       34      668      891      204791        56.89  \n",
       "3       3        9      408      447      101186        28.11  \n",
       "4      23       21      225      489       69957        19.43  "
      ]
     },
     "execution_count": 7,
     "metadata": {},
     "output_type": "execute_result"
    }
   ],
   "source": [
    "user_logs_df.head()"
   ]
  },
  {
   "cell_type": "code",
   "execution_count": 10,
   "metadata": {},
   "outputs": [],
   "source": [
    "user_logs_df = DATA_TRANSFORMER.create_cost_column(user_logs_df)"
   ]
  },
  {
   "cell_type": "code",
   "execution_count": 11,
   "metadata": {},
   "outputs": [
    {
     "data": {
      "text/html": [
       "<div>\n",
       "<style scoped>\n",
       "    .dataframe tbody tr th:only-of-type {\n",
       "        vertical-align: middle;\n",
       "    }\n",
       "\n",
       "    .dataframe tbody tr th {\n",
       "        vertical-align: top;\n",
       "    }\n",
       "\n",
       "    .dataframe thead th {\n",
       "        text-align: right;\n",
       "    }\n",
       "</style>\n",
       "<table border=\"1\" class=\"dataframe\">\n",
       "  <thead>\n",
       "    <tr style=\"text-align: right;\">\n",
       "      <th></th>\n",
       "      <th>msno</th>\n",
       "      <th>safra</th>\n",
       "      <th>num_25</th>\n",
       "      <th>num_50</th>\n",
       "      <th>num_75</th>\n",
       "      <th>num_985</th>\n",
       "      <th>num_100</th>\n",
       "      <th>num_unq</th>\n",
       "      <th>total_secs</th>\n",
       "      <th>total_hours</th>\n",
       "      <th>cost</th>\n",
       "    </tr>\n",
       "  </thead>\n",
       "  <tbody>\n",
       "    <tr>\n",
       "      <th>0</th>\n",
       "      <td>SwlrSivYHoKF9V5wm1YYYAnjHpd9y3OPjI9rDUhGJ3k=</td>\n",
       "      <td>201701</td>\n",
       "      <td>121</td>\n",
       "      <td>28</td>\n",
       "      <td>14</td>\n",
       "      <td>29</td>\n",
       "      <td>704</td>\n",
       "      <td>827</td>\n",
       "      <td>184606</td>\n",
       "      <td>51.28</td>\n",
       "      <td>72.68</td>\n",
       "    </tr>\n",
       "    <tr>\n",
       "      <th>1</th>\n",
       "      <td>rE5wSmHEF1Dhu55zhkiGB1HvotdlSHcIMGXv6VcqO2A=</td>\n",
       "      <td>201605</td>\n",
       "      <td>26</td>\n",
       "      <td>2</td>\n",
       "      <td>5</td>\n",
       "      <td>6</td>\n",
       "      <td>462</td>\n",
       "      <td>256</td>\n",
       "      <td>119439</td>\n",
       "      <td>33.18</td>\n",
       "      <td>63.25</td>\n",
       "    </tr>\n",
       "    <tr>\n",
       "      <th>2</th>\n",
       "      <td>hx+cyaQ/Jcdr/Z5foa/Cn0PXUzC/F7QO/NQvWQS1Qtc=</td>\n",
       "      <td>201611</td>\n",
       "      <td>161</td>\n",
       "      <td>71</td>\n",
       "      <td>49</td>\n",
       "      <td>34</td>\n",
       "      <td>668</td>\n",
       "      <td>891</td>\n",
       "      <td>204791</td>\n",
       "      <td>56.89</td>\n",
       "      <td>75.02</td>\n",
       "    </tr>\n",
       "    <tr>\n",
       "      <th>3</th>\n",
       "      <td>53QW6B70J23X2UCvxaaUppjyE0b6X9nzP79W4huZv+Q=</td>\n",
       "      <td>201502</td>\n",
       "      <td>37</td>\n",
       "      <td>9</td>\n",
       "      <td>3</td>\n",
       "      <td>9</td>\n",
       "      <td>408</td>\n",
       "      <td>447</td>\n",
       "      <td>101186</td>\n",
       "      <td>28.11</td>\n",
       "      <td>62.40</td>\n",
       "    </tr>\n",
       "    <tr>\n",
       "      <th>4</th>\n",
       "      <td>/0S1N/oRyxGLZlzxnW5rOjfo0ZAls9EH23ahuDNuqz8=</td>\n",
       "      <td>201506</td>\n",
       "      <td>205</td>\n",
       "      <td>49</td>\n",
       "      <td>23</td>\n",
       "      <td>21</td>\n",
       "      <td>225</td>\n",
       "      <td>489</td>\n",
       "      <td>69957</td>\n",
       "      <td>19.43</td>\n",
       "      <td>59.49</td>\n",
       "    </tr>\n",
       "  </tbody>\n",
       "</table>\n",
       "</div>"
      ],
      "text/plain": [
       "                                           msno   safra  num_25  num_50  \\\n",
       "0  SwlrSivYHoKF9V5wm1YYYAnjHpd9y3OPjI9rDUhGJ3k=  201701     121      28   \n",
       "1  rE5wSmHEF1Dhu55zhkiGB1HvotdlSHcIMGXv6VcqO2A=  201605      26       2   \n",
       "2  hx+cyaQ/Jcdr/Z5foa/Cn0PXUzC/F7QO/NQvWQS1Qtc=  201611     161      71   \n",
       "3  53QW6B70J23X2UCvxaaUppjyE0b6X9nzP79W4huZv+Q=  201502      37       9   \n",
       "4  /0S1N/oRyxGLZlzxnW5rOjfo0ZAls9EH23ahuDNuqz8=  201506     205      49   \n",
       "\n",
       "   num_75  num_985  num_100  num_unq  total_secs  total_hours  cost  \n",
       "0      14       29      704      827      184606        51.28 72.68  \n",
       "1       5        6      462      256      119439        33.18 63.25  \n",
       "2      49       34      668      891      204791        56.89 75.02  \n",
       "3       3        9      408      447      101186        28.11 62.40  \n",
       "4      23       21      225      489       69957        19.43 59.49  "
      ]
     },
     "execution_count": 11,
     "metadata": {},
     "output_type": "execute_result"
    }
   ],
   "source": [
    "user_logs_df.head()"
   ]
  },
  {
   "cell_type": "code",
   "execution_count": null,
   "metadata": {},
   "outputs": [
    {
     "name": "stdout",
     "output_type": "stream",
     "text": [
      "                                              msno   safra\n",
      "0     +++IZseRRiQS9aaSkH6cMYU6bGDcxUieAi/tH67sC5s=  201511\n",
      "1     +++snpr7pmobhLKUgSHTv/mpkqgBT0tQJ0zQj6qKrqc=  201505\n",
      "2     +++snpr7pmobhLKUgSHTv/mpkqgBT0tQJ0zQj6qKrqc=  201509\n",
      "3     ++/9R3sX37CjxbY/AaGvbwr3QkwElKBCtSvVzhCBDOk=  201606\n",
      "4     ++/Gw1B9K+XOlB3hLTloeUK2QlCa2m+BJ8TrzGf7djI=  201501\n",
      "...                                            ...     ...\n",
      "9995  +rYwMM7PRVxglntIxBDV/l6Mby8T62EY8OtMzM2FmZ0=  201611\n",
      "9996  +rZ0RHZlg7d8C/4UHAQFIVE3ZpUkJO4N7FsypVOjaBk=  201606\n",
      "9997  +rZRFRtiy+Hs2Ftc3gM8KaUMw2iUX5UtCW923zRBVWY=  201606\n",
      "9998  +rZRFRtiy+Hs2Ftc3gM8KaUMw2iUX5UtCW923zRBVWY=  201612\n",
      "9999  +rZXZf8UMFb1VX06BTrzeVRF0GxoF5fNsn2jUe1ove8=  201611\n",
      "\n",
      "[9996 rows x 2 columns]\n"
     ]
    }
   ],
   "source": [
    "copy_user_logs_df = user_logs_df.copy()\n",
    "# result_df = []\n",
    "for transactions_chunk in DATA_LOADER.load_transactions_df_in_chunks(chunksize=10_000):\n",
    "    print(transactions_chunk[['msno', 'safra']])\n",
    "    # result_df.append(\n",
    "    #     pd.merge(\n",
    "    #         copy_user_logs_df,\n",
    "    #         transactions_chunk,\n",
    "    #         on=['msno', 'safra'],\n",
    "    #         suffixes=('_user_logs', '_transactions')\n",
    "    #     )\n",
    "    # )\n",
    "    break\n",
    "\n",
    "# final_merged_df = pd.concat(result_df, ignore_index=True)"
   ]
  },
  {
   "cell_type": "markdown",
   "metadata": {},
   "source": [
    "Ler como Chunk!"
   ]
  },
  {
   "cell_type": "code",
   "execution_count": null,
   "metadata": {},
   "outputs": [],
   "source": [
    "trans_df = DATA_LOADER.load_transactions_df()\n",
    "print(trans_df)"
   ]
  },
  {
   "cell_type": "code",
   "execution_count": null,
   "metadata": {},
   "outputs": [],
   "source": []
  },
  {
   "cell_type": "code",
   "execution_count": null,
   "metadata": {},
   "outputs": [],
   "source": [
    "def merge_dataframes() -> pd.DataFrame:\n",
    "    members_df = DATA_LOADER.load_members_df()\n",
    "    transactions_df = DATA_LOADER.load_transactions_df()"
   ]
  }
 ],
 "metadata": {
  "kernelspec": {
   "display_name": "Python 3",
   "language": "python",
   "name": "python3"
  },
  "language_info": {
   "codemirror_mode": {
    "name": "ipython",
    "version": 3
   },
   "file_extension": ".py",
   "mimetype": "text/x-python",
   "name": "python",
   "nbconvert_exporter": "python",
   "pygments_lexer": "ipython3",
   "version": "3.12.9"
  }
 },
 "nbformat": 4,
 "nbformat_minor": 2
}
