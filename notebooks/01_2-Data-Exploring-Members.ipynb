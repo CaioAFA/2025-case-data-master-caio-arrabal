{
 "cells": [
  {
   "cell_type": "markdown",
   "metadata": {},
   "source": [
    "## Infos\n",
    "### Members (63.867.246 linhas)\n",
    "| Campo | Tipo | Observações | Analisado |\n",
    "|-------|------|-------------|-----------|\n",
    "| msno | String | Sem valores nulos | ✅ |\n",
    "| safra | Datetime (YYYYMM) | Sem valores nulos, vai até 201612 | ✅ |\n",
    "| registration_init_time | Datetime | Sem valores nulos | ✅ |\n",
    "| city | Int (categoria) | Sem valores nulos | ✅ |\n",
    "| bd | Int | Sem valores nulos | ✅ |\n",
    "| gender | String / Nulo (categoria) | Possui valores nulos | ✅ |\n",
    "| registered_via | Int (categoria) | Sem valores nulos | ✅ |\n",
    "| is_ativo | Boolean | Sem valores nulos, grande maioria inativa | ✅ |\n",
    "| registration_init_time_year | Int | (Gerado) Derivado de registration_init_time | ✅ |\n",
    "| registration_init_time_month | Int | (Gerado) Derivado de registration_init_time | ✅ |\n",
    "| registration_init_time_day | Int | (Gerado) Derivado de registration_init_time | ✅ |\n",
    "| registration_init_time_day_of_week | Int | (Gerado) Derivado de registration_init_time | ✅ |\n",
    "| registration_init_time_day_of_year | Int | (Gerado) Derivado de registration_init_time | ✅ |\n",
    "\n",
    "<br>\n",
    "\n",
    "**TODO**<br>\n",
    "- Renomear \"is_ativo\" para \"is_active\" para manter o padrão de nomenclatura ✅\n",
    "- Separar campos Datetime em ano, mês e dia ✅\n",
    "    - registration_init_time ✅\n",
    "- Tratar campo \"gender\" marcado como nulo ✅\n",
    "    - Removendo campo: cerca de 59% dos registros são inválidos ✅\n",
    "- Remover outliers de `bd` + tratar valores 0 (grande maioria) ✅\n",
    "    - Removendo campo ✅"
   ]
  },
  {
   "cell_type": "code",
   "execution_count": 1,
   "metadata": {},
   "outputs": [],
   "source": [
    "%load_ext autoreload\n",
    "%autoreload 2"
   ]
  },
  {
   "cell_type": "code",
   "execution_count": 2,
   "metadata": {},
   "outputs": [],
   "source": [
    "from Utils.DataLoader import DataLoader\n",
    "from Utils.DataAnalysis import DataAnalysis\n",
    "import pandas as pd\n",
    "import matplotlib.pyplot as plt\n",
    "from typing import List, Tuple\n",
    "from Utils import PandasNotebookConfigs"
   ]
  },
  {
   "cell_type": "code",
   "execution_count": 3,
   "metadata": {},
   "outputs": [
    {
     "name": "stdout",
     "output_type": "stream",
     "text": [
      "Ajustando display.float.format para %.2f\n"
     ]
    }
   ],
   "source": [
    "DATA_LOADER = DataLoader()\n",
    "DATA_ANALYSIS = DataAnalysis()\n",
    "\n",
    "PandasNotebookConfigs.config()"
   ]
  },
  {
   "cell_type": "markdown",
   "metadata": {},
   "source": [
    "# Members"
   ]
  },
  {
   "cell_type": "code",
   "execution_count": 4,
   "metadata": {},
   "outputs": [],
   "source": [
    "members_df = DATA_LOADER.load_members_df(\n",
    "    nrows=1000\n",
    ")"
   ]
  },
  {
   "cell_type": "code",
   "execution_count": 6,
   "metadata": {},
   "outputs": [
    {
     "name": "stdout",
     "output_type": "stream",
     "text": [
      "Rows qty: 1000\n"
     ]
    }
   ],
   "source": [
    "print(f'Rows qty: {len(members_df)}')"
   ]
  },
  {
   "cell_type": "code",
   "execution_count": 5,
   "metadata": {},
   "outputs": [
    {
     "data": {
      "text/plain": [
       "msno                                          object\n",
       "safra                                         object\n",
       "registration_init_time                datetime64[ns]\n",
       "city                                        category\n",
       "bd                                             int64\n",
       "gender                                      category\n",
       "registered_via                              category\n",
       "is_active                                       bool\n",
       "registration_init_time_year                    int32\n",
       "registration_init_time_month                   int32\n",
       "registration_init_time_day                     int32\n",
       "registration_init_time_day_of_week             int32\n",
       "registration_init_time_day_of_year             int32\n",
       "dtype: object"
      ]
     },
     "execution_count": 5,
     "metadata": {},
     "output_type": "execute_result"
    }
   ],
   "source": [
    "members_df.dtypes"
   ]
  },
  {
   "cell_type": "code",
   "execution_count": 6,
   "metadata": {},
   "outputs": [
    {
     "data": {
      "text/html": [
       "<div>\n",
       "<style scoped>\n",
       "    .dataframe tbody tr th:only-of-type {\n",
       "        vertical-align: middle;\n",
       "    }\n",
       "\n",
       "    .dataframe tbody tr th {\n",
       "        vertical-align: top;\n",
       "    }\n",
       "\n",
       "    .dataframe thead th {\n",
       "        text-align: right;\n",
       "    }\n",
       "</style>\n",
       "<table border=\"1\" class=\"dataframe\">\n",
       "  <thead>\n",
       "    <tr style=\"text-align: right;\">\n",
       "      <th></th>\n",
       "      <th>msno</th>\n",
       "      <th>safra</th>\n",
       "      <th>registration_init_time</th>\n",
       "      <th>city</th>\n",
       "      <th>bd</th>\n",
       "      <th>gender</th>\n",
       "      <th>registered_via</th>\n",
       "      <th>is_ativo</th>\n",
       "    </tr>\n",
       "  </thead>\n",
       "  <tbody>\n",
       "    <tr>\n",
       "      <th>0</th>\n",
       "      <td>+++snpr7pmobhLKUgSHTv/mpkqgBT0tQJ0zQj6qKrqc=</td>\n",
       "      <td>201612</td>\n",
       "      <td>2014-09-27</td>\n",
       "      <td>1</td>\n",
       "      <td>0</td>\n",
       "      <td>NaN</td>\n",
       "      <td>7</td>\n",
       "      <td>True</td>\n",
       "    </tr>\n",
       "    <tr>\n",
       "      <th>1</th>\n",
       "      <td>++/AwGzubug3gT6J+0STBGMdWKxaM+UFZTI8Tcmq4To=</td>\n",
       "      <td>201607</td>\n",
       "      <td>2015-03-22</td>\n",
       "      <td>1</td>\n",
       "      <td>0</td>\n",
       "      <td>NaN</td>\n",
       "      <td>9</td>\n",
       "      <td>False</td>\n",
       "    </tr>\n",
       "    <tr>\n",
       "      <th>2</th>\n",
       "      <td>++/Gw1B9K+XOlB3hLTloeUK2QlCa2m+BJ8TrzGf7djI=</td>\n",
       "      <td>201601</td>\n",
       "      <td>2012-12-17</td>\n",
       "      <td>15</td>\n",
       "      <td>32</td>\n",
       "      <td>male</td>\n",
       "      <td>3</td>\n",
       "      <td>True</td>\n",
       "    </tr>\n",
       "    <tr>\n",
       "      <th>3</th>\n",
       "      <td>++02XbtviomSxcIBUHMOiJkjRxdicTXSfiVqLdsr5lo=</td>\n",
       "      <td>201603</td>\n",
       "      <td>2013-11-12</td>\n",
       "      <td>14</td>\n",
       "      <td>21</td>\n",
       "      <td>male</td>\n",
       "      <td>7</td>\n",
       "      <td>False</td>\n",
       "    </tr>\n",
       "    <tr>\n",
       "      <th>4</th>\n",
       "      <td>++0O0Bq04sB/9ZcOS+pajpYL2Hin9jCqnc/8bKzKFuE=</td>\n",
       "      <td>201610</td>\n",
       "      <td>2014-10-21</td>\n",
       "      <td>5</td>\n",
       "      <td>33</td>\n",
       "      <td>male</td>\n",
       "      <td>3</td>\n",
       "      <td>False</td>\n",
       "    </tr>\n",
       "  </tbody>\n",
       "</table>\n",
       "</div>"
      ],
      "text/plain": [
       "                                           msno   safra  \\\n",
       "0  +++snpr7pmobhLKUgSHTv/mpkqgBT0tQJ0zQj6qKrqc=  201612   \n",
       "1  ++/AwGzubug3gT6J+0STBGMdWKxaM+UFZTI8Tcmq4To=  201607   \n",
       "2  ++/Gw1B9K+XOlB3hLTloeUK2QlCa2m+BJ8TrzGf7djI=  201601   \n",
       "3  ++02XbtviomSxcIBUHMOiJkjRxdicTXSfiVqLdsr5lo=  201603   \n",
       "4  ++0O0Bq04sB/9ZcOS+pajpYL2Hin9jCqnc/8bKzKFuE=  201610   \n",
       "\n",
       "  registration_init_time city  bd gender registered_via  is_ativo  \n",
       "0             2014-09-27    1   0    NaN              7      True  \n",
       "1             2015-03-22    1   0    NaN              9     False  \n",
       "2             2012-12-17   15  32   male              3      True  \n",
       "3             2013-11-12   14  21   male              7     False  \n",
       "4             2014-10-21    5  33   male              3     False  "
      ]
     },
     "execution_count": 6,
     "metadata": {},
     "output_type": "execute_result"
    }
   ],
   "source": [
    "members_df.head()"
   ]
  },
  {
   "cell_type": "code",
   "execution_count": 12,
   "metadata": {},
   "outputs": [
    {
     "data": {
      "text/plain": [
       "msno                             0\n",
       "safra                            0\n",
       "registration_init_time           0\n",
       "city                             0\n",
       "bd                               0\n",
       "gender                    38210177\n",
       "registered_via                   0\n",
       "is_ativo                         0\n",
       "dtype: int64"
      ]
     },
     "execution_count": 12,
     "metadata": {},
     "output_type": "execute_result"
    }
   ],
   "source": [
    "members_df.isna().sum()"
   ]
  },
  {
   "cell_type": "code",
   "execution_count": 7,
   "metadata": {},
   "outputs": [
    {
     "data": {
      "text/html": [
       "<div>\n",
       "<style scoped>\n",
       "    .dataframe tbody tr th:only-of-type {\n",
       "        vertical-align: middle;\n",
       "    }\n",
       "\n",
       "    .dataframe tbody tr th {\n",
       "        vertical-align: top;\n",
       "    }\n",
       "\n",
       "    .dataframe thead th {\n",
       "        text-align: right;\n",
       "    }\n",
       "</style>\n",
       "<table border=\"1\" class=\"dataframe\">\n",
       "  <thead>\n",
       "    <tr style=\"text-align: right;\">\n",
       "      <th></th>\n",
       "      <th>registration_init_time</th>\n",
       "      <th>bd</th>\n",
       "    </tr>\n",
       "  </thead>\n",
       "  <tbody>\n",
       "    <tr>\n",
       "      <th>count</th>\n",
       "      <td>63867246</td>\n",
       "      <td>6.386725e+07</td>\n",
       "    </tr>\n",
       "    <tr>\n",
       "      <th>mean</th>\n",
       "      <td>2014-06-10 23:17:42.231807232</td>\n",
       "      <td>1.143016e+01</td>\n",
       "    </tr>\n",
       "    <tr>\n",
       "      <th>min</th>\n",
       "      <td>2004-03-26 00:00:00</td>\n",
       "      <td>-7.168000e+03</td>\n",
       "    </tr>\n",
       "    <tr>\n",
       "      <th>25%</th>\n",
       "      <td>2013-10-20 00:00:00</td>\n",
       "      <td>0.000000e+00</td>\n",
       "    </tr>\n",
       "    <tr>\n",
       "      <th>50%</th>\n",
       "      <td>2015-03-15 00:00:00</td>\n",
       "      <td>0.000000e+00</td>\n",
       "    </tr>\n",
       "    <tr>\n",
       "      <th>75%</th>\n",
       "      <td>2015-12-25 00:00:00</td>\n",
       "      <td>2.400000e+01</td>\n",
       "    </tr>\n",
       "    <tr>\n",
       "      <th>max</th>\n",
       "      <td>2016-12-31 00:00:00</td>\n",
       "      <td>2.016000e+03</td>\n",
       "    </tr>\n",
       "    <tr>\n",
       "      <th>std</th>\n",
       "      <td>NaN</td>\n",
       "      <td>1.904132e+01</td>\n",
       "    </tr>\n",
       "  </tbody>\n",
       "</table>\n",
       "</div>"
      ],
      "text/plain": [
       "              registration_init_time            bd\n",
       "count                       63867246  6.386725e+07\n",
       "mean   2014-06-10 23:17:42.231807232  1.143016e+01\n",
       "min              2004-03-26 00:00:00 -7.168000e+03\n",
       "25%              2013-10-20 00:00:00  0.000000e+00\n",
       "50%              2015-03-15 00:00:00  0.000000e+00\n",
       "75%              2015-12-25 00:00:00  2.400000e+01\n",
       "max              2016-12-31 00:00:00  2.016000e+03\n",
       "std                              NaN  1.904132e+01"
      ]
     },
     "execution_count": 7,
     "metadata": {},
     "output_type": "execute_result"
    }
   ],
   "source": [
    "members_df.describe()"
   ]
  },
  {
   "cell_type": "code",
   "execution_count": 8,
   "metadata": {},
   "outputs": [
    {
     "data": {
      "text/plain": [
       "6287789"
      ]
     },
     "execution_count": 8,
     "metadata": {},
     "output_type": "execute_result"
    }
   ],
   "source": [
    "# Less values than the total rows\n",
    "len(members_df.msno.unique())"
   ]
  },
  {
   "cell_type": "code",
   "execution_count": 10,
   "metadata": {},
   "outputs": [
    {
     "data": {
      "text/plain": [
       "<Axes: xlabel='registration_init_time'>"
      ]
     },
     "execution_count": 10,
     "metadata": {},
     "output_type": "execute_result"
    },
    {
     "data": {
      "image/png": "[encoded data removed]",
      "text/plain": [
       "<Figure size 640x480 with 1 Axes>"
      ]
     },
     "metadata": {},
     "output_type": "display_data"
    }
   ],
   "source": [
    "members_df.registration_init_time.dt.year.value_counts().plot.bar()"
   ]
  },
  {
   "cell_type": "code",
   "execution_count": 11,
   "metadata": {},
   "outputs": [
    {
     "data": {
      "text/plain": [
       "<Axes: xlabel='registration_init_time'>"
      ]
     },
     "execution_count": 11,
     "metadata": {},
     "output_type": "execute_result"
    },
    {
     "data": {
      "image/png": "[encoded data removed]",
      "text/plain": [
       "<Figure size 640x480 with 1 Axes>"
      ]
     },
     "metadata": {},
     "output_type": "display_data"
    }
   ],
   "source": [
    "members_df.registration_init_time.dt.month.value_counts().plot.bar()"
   ]
  },
  {
   "cell_type": "code",
   "execution_count": 15,
   "metadata": {},
   "outputs": [
    {
     "data": {
      "text/plain": [
       "<Axes: xlabel='city'>"
      ]
     },
     "execution_count": 15,
     "metadata": {},
     "output_type": "execute_result"
    },
    {
     "data": {
      "image/png": "[encoded data removed]",
      "text/plain": [
       "<Figure size 640x480 with 1 Axes>"
      ]
     },
     "metadata": {},
     "output_type": "display_data"
    }
   ],
   "source": [
    "members_df.city.value_counts().plot.bar()"
   ]
  },
  {
   "cell_type": "code",
   "execution_count": 19,
   "metadata": {},
   "outputs": [
    {
     "data": {
      "text/plain": [
       "bd\n",
       " 0       39509864\n",
       " 22       1220332\n",
       " 21       1196188\n",
       " 20       1183935\n",
       " 27       1136339\n",
       "           ...   \n",
       "-497            2\n",
       "-507            1\n",
       " 1421           1\n",
       "-501            1\n",
       "-527            1\n",
       "Name: count, Length: 385, dtype: int64"
      ]
     },
     "execution_count": 19,
     "metadata": {},
     "output_type": "execute_result"
    }
   ],
   "source": [
    "members_df.bd.value_counts()"
   ]
  },
  {
   "cell_type": "code",
   "execution_count": 23,
   "metadata": {},
   "outputs": [
    {
     "data": {
      "text/plain": [
       "gender\n",
       "male      13075425\n",
       "female    12581644\n",
       "Name: count, dtype: int64"
      ]
     },
     "execution_count": 23,
     "metadata": {},
     "output_type": "execute_result"
    }
   ],
   "source": [
    "members_df.gender.value_counts()"
   ]
  },
  {
   "cell_type": "code",
   "execution_count": 24,
   "metadata": {},
   "outputs": [
    {
     "data": {
      "text/plain": [
       "np.int64(38210177)"
      ]
     },
     "execution_count": 24,
     "metadata": {},
     "output_type": "execute_result"
    }
   ],
   "source": [
    "members_df.gender.isna().sum()"
   ]
  },
  {
   "cell_type": "code",
   "execution_count": 25,
   "metadata": {},
   "outputs": [
    {
     "data": {
      "text/plain": [
       "registered_via\n",
       "4     19648219\n",
       "3     18640987\n",
       "9     16776651\n",
       "7      8407395\n",
       "11      269614\n",
       "8        47588\n",
       "5        18715\n",
       "2        16847\n",
       "16       10564\n",
       "13        7546\n",
       "14        7111\n",
       "17        6630\n",
       "19        5629\n",
       "6         3380\n",
       "1          254\n",
       "10         104\n",
       "-1          12\n",
       "Name: count, dtype: int64"
      ]
     },
     "execution_count": 25,
     "metadata": {},
     "output_type": "execute_result"
    }
   ],
   "source": [
    "members_df.registered_via.value_counts()"
   ]
  },
  {
   "cell_type": "code",
   "execution_count": 26,
   "metadata": {},
   "outputs": [
    {
     "data": {
      "text/plain": [
       "is_ativo\n",
       "False    52624381\n",
       "True     11242865\n",
       "Name: count, dtype: int64"
      ]
     },
     "execution_count": 26,
     "metadata": {},
     "output_type": "execute_result"
    }
   ],
   "source": [
    "members_df.is_ativo.value_counts()"
   ]
  },
  {
   "cell_type": "code",
   "execution_count": 27,
   "metadata": {},
   "outputs": [
    {
     "data": {
      "text/plain": [
       "<Axes: xlabel='is_ativo'>"
      ]
     },
     "execution_count": 27,
     "metadata": {},
     "output_type": "execute_result"
    },
    {
     "data": {
      "image/png": "[encoded data removed]",
      "text/plain": [
       "<Figure size 640x480 with 1 Axes>"
      ]
     },
     "metadata": {},
     "output_type": "display_data"
    }
   ],
   "source": [
    "members_df.is_ativo.value_counts().plot.bar()"
   ]
  },
  {
   "cell_type": "code",
   "execution_count": 28,
   "metadata": {},
   "outputs": [
    {
     "data": {
      "text/plain": [
       "count     63867246\n",
       "unique          12\n",
       "top         201612\n",
       "freq       6287789\n",
       "Name: safra, dtype: object"
      ]
     },
     "execution_count": 28,
     "metadata": {},
     "output_type": "execute_result"
    }
   ],
   "source": [
    "members_df.safra.describe()"
   ]
  }
 ],
 "metadata": {
  "kernelspec": {
   "display_name": "Python 3",
   "language": "python",
   "name": "python3"
  },
  "language_info": {
   "codemirror_mode": {
    "name": "ipython",
    "version": 3
   },
   "file_extension": ".py",
   "mimetype": "text/x-python",
   "name": "python",
   "nbconvert_exporter": "python",
   "pygments_lexer": "ipython3",
   "version": "3.12.2"
  }
 },
 "nbformat": 4,
 "nbformat_minor": 2
}
