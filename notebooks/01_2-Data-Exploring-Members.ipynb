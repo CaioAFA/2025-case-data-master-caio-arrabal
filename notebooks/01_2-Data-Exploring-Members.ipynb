{
 "cells": [
  {
   "cell_type": "markdown",
   "metadata": {},
   "source": [
    "## Notebook para explorar dados de Members\n",
    "### Members (63.867.246 linhas)\n",
    "| Campo | Tipo | Observações | Analisado |\n",
    "|-------|------|-------------|-----------|\n",
    "| msno | String | Sem valores nulos | ✅ |\n",
    "| safra | Datetime (YYYYMM) | Sem valores nulos, vai até 201612 | ✅ |\n",
    "| registration_init_time | Datetime | Sem valores nulos | ✅ |\n",
    "| city | Int (categoria) | Sem valores nulos | ✅ |\n",
    "| bd | Int | Sem valores nulos | ✅ |\n",
    "| gender | String / Nulo (categoria) | Possui valores nulos | ✅ |\n",
    "| registered_via | Int (categoria) | Sem valores nulos | ✅ |\n",
    "| is_ativo | Boolean | Sem valores nulos, grande maioria inativa | ✅ |\n",
    "| registration_init_time_year | Int | (Gerado) Derivado de registration_init_time | ✅ |\n",
    "| registration_init_time_month | Int | (Gerado) Derivado de registration_init_time | ✅ |\n",
    "| registration_init_time_day | Int | (Gerado) Derivado de registration_init_time | ✅ |\n",
    "| registration_init_time_day_of_week | Int | (Gerado) Derivado de registration_init_time | ✅ |\n",
    "| registration_init_time_day_of_year | Int | (Gerado) Derivado de registration_init_time | ✅ |\n",
    "\n",
    "<br>\n",
    "\n",
    "**TODO**<br>\n",
    "- Renomear \"is_ativo\" para \"is_active\" para manter o padrão de nomenclatura ✅\n",
    "- Separar campos Datetime em ano, mês e dia ✅\n",
    "    - registration_init_time ✅\n",
    "- Tratar campo \"gender\" marcado como nulo ✅\n",
    "    - Removendo campo: cerca de 59% dos registros são inválidos ✅\n",
    "- Remover outliers de `bd` + tratar valores 0 (grande maioria) ✅\n",
    "    - Removendo campo ✅"
   ]
  },
  {
   "cell_type": "code",
   "execution_count": 5,
   "metadata": {},
   "outputs": [
    {
     "name": "stdout",
     "output_type": "stream",
     "text": [
      "The autoreload extension is already loaded. To reload it, use:\n",
      "  %reload_ext autoreload\n"
     ]
    }
   ],
   "source": [
    "%load_ext autoreload\n",
    "%autoreload 2"
   ]
  },
  {
   "cell_type": "code",
   "execution_count": null,
   "metadata": {},
   "outputs": [],
   "source": [
    "from Utils.DataLoader import DataLoader\n",
    "from Utils.DataAnalysis import DataAnalysis\n",
    "from Utils import PandasNotebookConfigs"
   ]
  },
  {
   "cell_type": "code",
   "execution_count": 7,
   "metadata": {},
   "outputs": [
    {
     "name": "stdout",
     "output_type": "stream",
     "text": [
      "Ajustando display.float.format para %.4f\n",
      "Ajustando prints de linhas e colunas\n"
     ]
    }
   ],
   "source": [
    "DATA_LOADER = DataLoader()\n",
    "DATA_ANALYSIS = DataAnalysis()\n",
    "\n",
    "PandasNotebookConfigs.config()"
   ]
  },
  {
   "cell_type": "markdown",
   "metadata": {},
   "source": [
    "# Members"
   ]
  },
  {
   "cell_type": "code",
   "execution_count": 8,
   "metadata": {},
   "outputs": [],
   "source": [
    "members_df = DATA_LOADER.load_members_df()"
   ]
  },
  {
   "cell_type": "code",
   "execution_count": null,
   "metadata": {},
   "outputs": [
    {
     "name": "stdout",
     "output_type": "stream",
     "text": [
      "Rows qty: 63867246\n"
     ]
    }
   ],
   "source": [
    "print(f'Qtd. de linhas: {len(members_df)}')"
   ]
  },
  {
   "cell_type": "code",
   "execution_count": 10,
   "metadata": {},
   "outputs": [
    {
     "data": {
      "text/plain": [
       "msno                                    object\n",
       "safra                                    int64\n",
       "city                                  category\n",
       "registered_via                        category\n",
       "is_active                                 bool\n",
       "registration_init_time_year              int32\n",
       "registration_init_time_month             int32\n",
       "registration_init_time_day               int32\n",
       "registration_init_time_day_of_week       int32\n",
       "registration_init_time_day_of_year       int32\n",
       "dtype: object"
      ]
     },
     "execution_count": 10,
     "metadata": {},
     "output_type": "execute_result"
    }
   ],
   "source": [
    "members_df.dtypes"
   ]
  },
  {
   "cell_type": "code",
   "execution_count": 11,
   "metadata": {},
   "outputs": [
    {
     "data": {
      "text/html": [
       "<div>\n",
       "<style scoped>\n",
       "    .dataframe tbody tr th:only-of-type {\n",
       "        vertical-align: middle;\n",
       "    }\n",
       "\n",
       "    .dataframe tbody tr th {\n",
       "        vertical-align: top;\n",
       "    }\n",
       "\n",
       "    .dataframe thead th {\n",
       "        text-align: right;\n",
       "    }\n",
       "</style>\n",
       "<table border=\"1\" class=\"dataframe\">\n",
       "  <thead>\n",
       "    <tr style=\"text-align: right;\">\n",
       "      <th></th>\n",
       "      <th>msno</th>\n",
       "      <th>safra</th>\n",
       "      <th>city</th>\n",
       "      <th>registered_via</th>\n",
       "      <th>is_active</th>\n",
       "      <th>registration_init_time_year</th>\n",
       "      <th>registration_init_time_month</th>\n",
       "      <th>registration_init_time_day</th>\n",
       "      <th>registration_init_time_day_of_week</th>\n",
       "      <th>registration_init_time_day_of_year</th>\n",
       "    </tr>\n",
       "  </thead>\n",
       "  <tbody>\n",
       "    <tr>\n",
       "      <th>0</th>\n",
       "      <td>+++snpr7pmobhLKUgSHTv/mpkqgBT0tQJ0zQj6qKrqc=</td>\n",
       "      <td>201612</td>\n",
       "      <td>1</td>\n",
       "      <td>7</td>\n",
       "      <td>True</td>\n",
       "      <td>2014</td>\n",
       "      <td>9</td>\n",
       "      <td>27</td>\n",
       "      <td>5</td>\n",
       "      <td>270</td>\n",
       "    </tr>\n",
       "    <tr>\n",
       "      <th>1</th>\n",
       "      <td>++/AwGzubug3gT6J+0STBGMdWKxaM+UFZTI8Tcmq4To=</td>\n",
       "      <td>201607</td>\n",
       "      <td>1</td>\n",
       "      <td>9</td>\n",
       "      <td>False</td>\n",
       "      <td>2015</td>\n",
       "      <td>3</td>\n",
       "      <td>22</td>\n",
       "      <td>6</td>\n",
       "      <td>81</td>\n",
       "    </tr>\n",
       "    <tr>\n",
       "      <th>2</th>\n",
       "      <td>++/Gw1B9K+XOlB3hLTloeUK2QlCa2m+BJ8TrzGf7djI=</td>\n",
       "      <td>201601</td>\n",
       "      <td>15</td>\n",
       "      <td>3</td>\n",
       "      <td>True</td>\n",
       "      <td>2012</td>\n",
       "      <td>12</td>\n",
       "      <td>17</td>\n",
       "      <td>0</td>\n",
       "      <td>352</td>\n",
       "    </tr>\n",
       "    <tr>\n",
       "      <th>3</th>\n",
       "      <td>++02XbtviomSxcIBUHMOiJkjRxdicTXSfiVqLdsr5lo=</td>\n",
       "      <td>201603</td>\n",
       "      <td>14</td>\n",
       "      <td>7</td>\n",
       "      <td>False</td>\n",
       "      <td>2013</td>\n",
       "      <td>11</td>\n",
       "      <td>12</td>\n",
       "      <td>1</td>\n",
       "      <td>316</td>\n",
       "    </tr>\n",
       "    <tr>\n",
       "      <th>4</th>\n",
       "      <td>++0O0Bq04sB/9ZcOS+pajpYL2Hin9jCqnc/8bKzKFuE=</td>\n",
       "      <td>201610</td>\n",
       "      <td>5</td>\n",
       "      <td>3</td>\n",
       "      <td>False</td>\n",
       "      <td>2014</td>\n",
       "      <td>10</td>\n",
       "      <td>21</td>\n",
       "      <td>1</td>\n",
       "      <td>294</td>\n",
       "    </tr>\n",
       "  </tbody>\n",
       "</table>\n",
       "</div>"
      ],
      "text/plain": [
       "                                           msno   safra city registered_via  \\\n",
       "0  +++snpr7pmobhLKUgSHTv/mpkqgBT0tQJ0zQj6qKrqc=  201612    1              7   \n",
       "1  ++/AwGzubug3gT6J+0STBGMdWKxaM+UFZTI8Tcmq4To=  201607    1              9   \n",
       "2  ++/Gw1B9K+XOlB3hLTloeUK2QlCa2m+BJ8TrzGf7djI=  201601   15              3   \n",
       "3  ++02XbtviomSxcIBUHMOiJkjRxdicTXSfiVqLdsr5lo=  201603   14              7   \n",
       "4  ++0O0Bq04sB/9ZcOS+pajpYL2Hin9jCqnc/8bKzKFuE=  201610    5              3   \n",
       "\n",
       "   is_active  registration_init_time_year  registration_init_time_month  \\\n",
       "0       True                         2014                             9   \n",
       "1      False                         2015                             3   \n",
       "2       True                         2012                            12   \n",
       "3      False                         2013                            11   \n",
       "4      False                         2014                            10   \n",
       "\n",
       "   registration_init_time_day  registration_init_time_day_of_week  \\\n",
       "0                          27                                   5   \n",
       "1                          22                                   6   \n",
       "2                          17                                   0   \n",
       "3                          12                                   1   \n",
       "4                          21                                   1   \n",
       "\n",
       "   registration_init_time_day_of_year  \n",
       "0                                 270  \n",
       "1                                  81  \n",
       "2                                 352  \n",
       "3                                 316  \n",
       "4                                 294  "
      ]
     },
     "execution_count": 11,
     "metadata": {},
     "output_type": "execute_result"
    }
   ],
   "source": [
    "members_df.head()"
   ]
  },
  {
   "cell_type": "code",
   "execution_count": 12,
   "metadata": {},
   "outputs": [
    {
     "data": {
      "text/plain": [
       "msno                                  0\n",
       "safra                                 0\n",
       "city                                  0\n",
       "registered_via                        0\n",
       "is_active                             0\n",
       "registration_init_time_year           0\n",
       "registration_init_time_month          0\n",
       "registration_init_time_day            0\n",
       "registration_init_time_day_of_week    0\n",
       "registration_init_time_day_of_year    0\n",
       "dtype: int64"
      ]
     },
     "execution_count": 12,
     "metadata": {},
     "output_type": "execute_result"
    }
   ],
   "source": [
    "members_df.isna().sum()"
   ]
  },
  {
   "cell_type": "code",
   "execution_count": 13,
   "metadata": {},
   "outputs": [
    {
     "data": {
      "text/html": [
       "<div>\n",
       "<style scoped>\n",
       "    .dataframe tbody tr th:only-of-type {\n",
       "        vertical-align: middle;\n",
       "    }\n",
       "\n",
       "    .dataframe tbody tr th {\n",
       "        vertical-align: top;\n",
       "    }\n",
       "\n",
       "    .dataframe thead th {\n",
       "        text-align: right;\n",
       "    }\n",
       "</style>\n",
       "<table border=\"1\" class=\"dataframe\">\n",
       "  <thead>\n",
       "    <tr style=\"text-align: right;\">\n",
       "      <th></th>\n",
       "      <th>safra</th>\n",
       "      <th>registration_init_time_year</th>\n",
       "      <th>registration_init_time_month</th>\n",
       "      <th>registration_init_time_day</th>\n",
       "      <th>registration_init_time_day_of_week</th>\n",
       "      <th>registration_init_time_day_of_year</th>\n",
       "    </tr>\n",
       "  </thead>\n",
       "  <tbody>\n",
       "    <tr>\n",
       "      <th>count</th>\n",
       "      <td>63867246.0000</td>\n",
       "      <td>63867246.0000</td>\n",
       "      <td>63867246.0000</td>\n",
       "      <td>63867246.0000</td>\n",
       "      <td>63867246.0000</td>\n",
       "      <td>63867246.0000</td>\n",
       "    </tr>\n",
       "    <tr>\n",
       "      <th>mean</th>\n",
       "      <td>201606.9037</td>\n",
       "      <td>2013.9390</td>\n",
       "      <td>6.5605</td>\n",
       "      <td>15.8704</td>\n",
       "      <td>3.1925</td>\n",
       "      <td>184.4732</td>\n",
       "    </tr>\n",
       "    <tr>\n",
       "      <th>std</th>\n",
       "      <td>3.4232</td>\n",
       "      <td>2.3619</td>\n",
       "      <td>3.6066</td>\n",
       "      <td>8.7591</td>\n",
       "      <td>2.0158</td>\n",
       "      <td>110.2033</td>\n",
       "    </tr>\n",
       "    <tr>\n",
       "      <th>min</th>\n",
       "      <td>201601.0000</td>\n",
       "      <td>2004.0000</td>\n",
       "      <td>1.0000</td>\n",
       "      <td>1.0000</td>\n",
       "      <td>0.0000</td>\n",
       "      <td>1.0000</td>\n",
       "    </tr>\n",
       "    <tr>\n",
       "      <th>25%</th>\n",
       "      <td>201604.0000</td>\n",
       "      <td>2013.0000</td>\n",
       "      <td>3.0000</td>\n",
       "      <td>8.0000</td>\n",
       "      <td>1.0000</td>\n",
       "      <td>82.0000</td>\n",
       "    </tr>\n",
       "    <tr>\n",
       "      <th>50%</th>\n",
       "      <td>201607.0000</td>\n",
       "      <td>2015.0000</td>\n",
       "      <td>7.0000</td>\n",
       "      <td>16.0000</td>\n",
       "      <td>3.0000</td>\n",
       "      <td>187.0000</td>\n",
       "    </tr>\n",
       "    <tr>\n",
       "      <th>75%</th>\n",
       "      <td>201610.0000</td>\n",
       "      <td>2015.0000</td>\n",
       "      <td>10.0000</td>\n",
       "      <td>23.0000</td>\n",
       "      <td>5.0000</td>\n",
       "      <td>286.0000</td>\n",
       "    </tr>\n",
       "    <tr>\n",
       "      <th>max</th>\n",
       "      <td>201612.0000</td>\n",
       "      <td>2016.0000</td>\n",
       "      <td>12.0000</td>\n",
       "      <td>31.0000</td>\n",
       "      <td>6.0000</td>\n",
       "      <td>366.0000</td>\n",
       "    </tr>\n",
       "  </tbody>\n",
       "</table>\n",
       "</div>"
      ],
      "text/plain": [
       "              safra  registration_init_time_year  \\\n",
       "count 63867246.0000                63867246.0000   \n",
       "mean    201606.9037                    2013.9390   \n",
       "std          3.4232                       2.3619   \n",
       "min     201601.0000                    2004.0000   \n",
       "25%     201604.0000                    2013.0000   \n",
       "50%     201607.0000                    2015.0000   \n",
       "75%     201610.0000                    2015.0000   \n",
       "max     201612.0000                    2016.0000   \n",
       "\n",
       "       registration_init_time_month  registration_init_time_day  \\\n",
       "count                 63867246.0000               63867246.0000   \n",
       "mean                         6.5605                     15.8704   \n",
       "std                          3.6066                      8.7591   \n",
       "min                          1.0000                      1.0000   \n",
       "25%                          3.0000                      8.0000   \n",
       "50%                          7.0000                     16.0000   \n",
       "75%                         10.0000                     23.0000   \n",
       "max                         12.0000                     31.0000   \n",
       "\n",
       "       registration_init_time_day_of_week  registration_init_time_day_of_year  \n",
       "count                       63867246.0000                       63867246.0000  \n",
       "mean                               3.1925                            184.4732  \n",
       "std                                2.0158                            110.2033  \n",
       "min                                0.0000                              1.0000  \n",
       "25%                                1.0000                             82.0000  \n",
       "50%                                3.0000                            187.0000  \n",
       "75%                                5.0000                            286.0000  \n",
       "max                                6.0000                            366.0000  "
      ]
     },
     "execution_count": 13,
     "metadata": {},
     "output_type": "execute_result"
    }
   ],
   "source": [
    "members_df.describe()"
   ]
  },
  {
   "cell_type": "code",
   "execution_count": 14,
   "metadata": {},
   "outputs": [
    {
     "data": {
      "text/plain": [
       "6287789"
      ]
     },
     "execution_count": 14,
     "metadata": {},
     "output_type": "execute_result"
    }
   ],
   "source": [
    "# Less values than the total rows\n",
    "len(members_df.msno.unique())"
   ]
  },
  {
   "cell_type": "code",
   "execution_count": 15,
   "metadata": {},
   "outputs": [
    {
     "ename": "AttributeError",
     "evalue": "'DataFrame' object has no attribute 'registration_init_time'",
     "output_type": "error",
     "traceback": [
      "\u001b[0;31m---------------------------------------------------------------------------\u001b[0m",
      "\u001b[0;31mAttributeError\u001b[0m                            Traceback (most recent call last)",
      "\u001b[0;32m/tmp/ipykernel_11546/985061055.py\u001b[0m in \u001b[0;36m?\u001b[0;34m()\u001b[0m\n\u001b[0;32m----> 1\u001b[0;31m \u001b[0mmembers_df\u001b[0m\u001b[0;34m.\u001b[0m\u001b[0mregistration_init_time\u001b[0m\u001b[0;34m.\u001b[0m\u001b[0mdt\u001b[0m\u001b[0;34m.\u001b[0m\u001b[0myear\u001b[0m\u001b[0;34m.\u001b[0m\u001b[0mvalue_counts\u001b[0m\u001b[0;34m(\u001b[0m\u001b[0;34m)\u001b[0m\u001b[0;34m.\u001b[0m\u001b[0mplot\u001b[0m\u001b[0;34m.\u001b[0m\u001b[0mbar\u001b[0m\u001b[0;34m(\u001b[0m\u001b[0;34m)\u001b[0m\u001b[0;34m\u001b[0m\u001b[0;34m\u001b[0m\u001b[0m\n\u001b[0m",
      "\u001b[0;32m~/Git-Projetos/2025-case-data-master-caio-arrabal/env/lib/python3.10/site-packages/pandas/core/generic.py\u001b[0m in \u001b[0;36m?\u001b[0;34m(self, name)\u001b[0m\n\u001b[1;32m   6200\u001b[0m             \u001b[0;32mand\u001b[0m \u001b[0mname\u001b[0m \u001b[0;32mnot\u001b[0m \u001b[0;32min\u001b[0m \u001b[0mself\u001b[0m\u001b[0;34m.\u001b[0m\u001b[0m_accessors\u001b[0m\u001b[0;34m\u001b[0m\u001b[0;34m\u001b[0m\u001b[0m\n\u001b[1;32m   6201\u001b[0m             \u001b[0;32mand\u001b[0m \u001b[0mself\u001b[0m\u001b[0;34m.\u001b[0m\u001b[0m_info_axis\u001b[0m\u001b[0;34m.\u001b[0m\u001b[0m_can_hold_identifiers_and_holds_name\u001b[0m\u001b[0;34m(\u001b[0m\u001b[0mname\u001b[0m\u001b[0;34m)\u001b[0m\u001b[0;34m\u001b[0m\u001b[0;34m\u001b[0m\u001b[0m\n\u001b[1;32m   6202\u001b[0m         ):\n\u001b[1;32m   6203\u001b[0m             \u001b[0;32mreturn\u001b[0m \u001b[0mself\u001b[0m\u001b[0;34m[\u001b[0m\u001b[0mname\u001b[0m\u001b[0;34m]\u001b[0m\u001b[0;34m\u001b[0m\u001b[0;34m\u001b[0m\u001b[0m\n\u001b[0;32m-> 6204\u001b[0;31m         \u001b[0;32mreturn\u001b[0m \u001b[0mobject\u001b[0m\u001b[0;34m.\u001b[0m\u001b[0m__getattribute__\u001b[0m\u001b[0;34m(\u001b[0m\u001b[0mself\u001b[0m\u001b[0;34m,\u001b[0m \u001b[0mname\u001b[0m\u001b[0;34m)\u001b[0m\u001b[0;34m\u001b[0m\u001b[0;34m\u001b[0m\u001b[0m\n\u001b[0m",
      "\u001b[0;31mAttributeError\u001b[0m: 'DataFrame' object has no attribute 'registration_init_time'"
     ]
    }
   ],
   "source": [
    "members_df.registration_init_time.dt.year.value_counts().plot.bar()"
   ]
  },
  {
   "cell_type": "code",
   "execution_count": null,
   "metadata": {},
   "outputs": [
    {
     "data": {
      "text/plain": [
       "<Axes: xlabel='registration_init_time'>"
      ]
     },
     "execution_count": 11,
     "metadata": {},
     "output_type": "execute_result"
    },
    {
     "data": {
      "image/png": "[encoded data removed]",
      "text/plain": [
       "<Figure size 640x480 with 1 Axes>"
      ]
     },
     "metadata": {},
     "output_type": "display_data"
    }
   ],
   "source": [
    "members_df.registration_init_time.dt.month.value_counts().plot.bar()"
   ]
  },
  {
   "cell_type": "code",
   "execution_count": null,
   "metadata": {},
   "outputs": [
    {
     "data": {
      "text/plain": [
       "<Axes: xlabel='city'>"
      ]
     },
     "execution_count": 15,
     "metadata": {},
     "output_type": "execute_result"
    },
    {
     "data": {
      "image/png": "[encoded data removed]",
      "text/plain": [
       "<Figure size 640x480 with 1 Axes>"
      ]
     },
     "metadata": {},
     "output_type": "display_data"
    }
   ],
   "source": [
    "members_df.city.value_counts().plot.bar()"
   ]
  },
  {
   "cell_type": "code",
   "execution_count": null,
   "metadata": {},
   "outputs": [
    {
     "data": {
      "text/plain": [
       "bd\n",
       " 0       39509864\n",
       " 22       1220332\n",
       " 21       1196188\n",
       " 20       1183935\n",
       " 27       1136339\n",
       "           ...   \n",
       "-497            2\n",
       "-507            1\n",
       " 1421           1\n",
       "-501            1\n",
       "-527            1\n",
       "Name: count, Length: 385, dtype: int64"
      ]
     },
     "execution_count": 19,
     "metadata": {},
     "output_type": "execute_result"
    }
   ],
   "source": [
    "members_df.bd.value_counts()"
   ]
  },
  {
   "cell_type": "code",
   "execution_count": null,
   "metadata": {},
   "outputs": [
    {
     "data": {
      "text/plain": [
       "gender\n",
       "male      13075425\n",
       "female    12581644\n",
       "Name: count, dtype: int64"
      ]
     },
     "execution_count": 23,
     "metadata": {},
     "output_type": "execute_result"
    }
   ],
   "source": [
    "members_df.gender.value_counts()"
   ]
  },
  {
   "cell_type": "code",
   "execution_count": null,
   "metadata": {},
   "outputs": [
    {
     "data": {
      "text/plain": [
       "np.int64(38210177)"
      ]
     },
     "execution_count": 24,
     "metadata": {},
     "output_type": "execute_result"
    }
   ],
   "source": [
    "members_df.gender.isna().sum()"
   ]
  },
  {
   "cell_type": "code",
   "execution_count": null,
   "metadata": {},
   "outputs": [
    {
     "data": {
      "text/plain": [
       "registered_via\n",
       "4     19648219\n",
       "3     18640987\n",
       "9     16776651\n",
       "7      8407395\n",
       "11      269614\n",
       "8        47588\n",
       "5        18715\n",
       "2        16847\n",
       "16       10564\n",
       "13        7546\n",
       "14        7111\n",
       "17        6630\n",
       "19        5629\n",
       "6         3380\n",
       "1          254\n",
       "10         104\n",
       "-1          12\n",
       "Name: count, dtype: int64"
      ]
     },
     "execution_count": 25,
     "metadata": {},
     "output_type": "execute_result"
    }
   ],
   "source": [
    "members_df.registered_via.value_counts()"
   ]
  },
  {
   "cell_type": "code",
   "execution_count": null,
   "metadata": {},
   "outputs": [
    {
     "data": {
      "text/plain": [
       "is_ativo\n",
       "False    52624381\n",
       "True     11242865\n",
       "Name: count, dtype: int64"
      ]
     },
     "execution_count": 26,
     "metadata": {},
     "output_type": "execute_result"
    }
   ],
   "source": [
    "members_df.is_ativo.value_counts()"
   ]
  },
  {
   "cell_type": "code",
   "execution_count": null,
   "metadata": {},
   "outputs": [
    {
     "data": {
      "text/plain": [
       "<Axes: xlabel='is_ativo'>"
      ]
     },
     "execution_count": 27,
     "metadata": {},
     "output_type": "execute_result"
    },
    {
     "data": {
      "image/png": "[encoded data removed]",
      "text/plain": [
       "<Figure size 640x480 with 1 Axes>"
      ]
     },
     "metadata": {},
     "output_type": "display_data"
    }
   ],
   "source": [
    "members_df.is_ativo.value_counts().plot.bar()"
   ]
  },
  {
   "cell_type": "code",
   "execution_count": null,
   "metadata": {},
   "outputs": [
    {
     "data": {
      "text/plain": [
       "count     63867246\n",
       "unique          12\n",
       "top         201612\n",
       "freq       6287789\n",
       "Name: safra, dtype: object"
      ]
     },
     "execution_count": 28,
     "metadata": {},
     "output_type": "execute_result"
    }
   ],
   "source": [
    "members_df.safra.describe()"
   ]
  }
 ],
 "metadata": {
  "kernelspec": {
   "display_name": "Python 3",
   "language": "python",
   "name": "python3"
  },
  "language_info": {
   "codemirror_mode": {
    "name": "ipython",
    "version": 3
   },
   "file_extension": ".py",
   "mimetype": "text/x-python",
   "name": "python",
   "nbconvert_exporter": "python",
   "pygments_lexer": "ipython3",
   "version": "3.6.13"
  }
 },
 "nbformat": 4,
 "nbformat_minor": 2
}
