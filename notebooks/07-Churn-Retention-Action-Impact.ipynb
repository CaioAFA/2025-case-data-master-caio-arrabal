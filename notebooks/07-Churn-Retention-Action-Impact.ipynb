{
 "cells": [
  {
   "cell_type": "markdown",
   "metadata": {},
   "source": [
    "## Análise: resultado da ação proativa de Churn"
   ]
  },
  {
   "cell_type": "code",
   "execution_count": 38,
   "metadata": {},
   "outputs": [
    {
     "name": "stdout",
     "output_type": "stream",
     "text": [
      "The autoreload extension is already loaded. To reload it, use:\n",
      "  %reload_ext autoreload\n"
     ]
    }
   ],
   "source": [
    "%load_ext autoreload\n",
    "%autoreload 2"
   ]
  },
  {
   "cell_type": "code",
   "execution_count": null,
   "metadata": {},
   "outputs": [],
   "source": [
    "from Utils.DataTransformer import DataTransformer\n",
    "from Utils.DuckDb.DuckDb import DuckDb\n",
    "from Utils.DatasetProcessor.DatasetProcessorUtils import DatasetProcessorUtils\n",
    "from Utils.DataAnalysis import DataAnalysis\n",
    "from Utils import PandasNotebookConfigs\n",
    "import project_config\n",
    "from Utils.Datetime import DatetimeUtils\n",
    "from Utils.Dict import DictUtils\n",
    "from Utils.Number import NumberUtils"
   ]
  },
  {
   "cell_type": "code",
   "execution_count": 40,
   "metadata": {},
   "outputs": [
    {
     "name": "stdout",
     "output_type": "stream",
     "text": [
      "Ajustando display.float.format para %.4f\n",
      "Ajustando prints de linhas e colunas\n"
     ]
    }
   ],
   "source": [
    "PandasNotebookConfigs.config()"
   ]
  },
  {
   "cell_type": "code",
   "execution_count": null,
   "metadata": {},
   "outputs": [],
   "source": [
    "# 50% of the users will renew the plan\n",
    "SUCESS_USER_PROACTIVE_ACTION = 0.50\n",
    "\n",
    "COST_TO_KEEP_CUSTOMER = 200\n",
    "\n",
    "RETAIN_MONTHS_QTY = 12"
   ]
  },
  {
   "cell_type": "code",
   "execution_count": 42,
   "metadata": {},
   "outputs": [],
   "source": [
    "DUCK_DB = DuckDb()\n",
    "DATA_TRANSFORMER = DataTransformer()\n",
    "DATA_PROCESSOR_UTILS = DatasetProcessorUtils(DUCK_DB)\n",
    "DATETIME_UTILS = DatetimeUtils()\n",
    "DICT_UTILS = DictUtils()\n",
    "DATA_ANALYSIS = DataAnalysis()\n",
    "NUMBER_UTILS = NumberUtils()"
   ]
  },
  {
   "cell_type": "code",
   "execution_count": 43,
   "metadata": {},
   "outputs": [
    {
     "data": {
      "application/vnd.jupyter.widget-view+json": {
       "model_id": "5ad00c1898b348518e6a81b41ba41347",
       "version_major": 2,
       "version_minor": 0
      },
      "text/plain": [
       "FloatProgress(value=0.0, layout=Layout(width='auto'), style=ProgressStyle(bar_color='black'))"
      ]
     },
     "metadata": {},
     "output_type": "display_data"
    }
   ],
   "source": [
    "df = DUCK_DB.load_table(\n",
    "    project_config.PREDICTED_DATA_TABLE\n",
    ")"
   ]
  },
  {
   "cell_type": "code",
   "execution_count": 44,
   "metadata": {},
   "outputs": [
    {
     "data": {
      "text/plain": [
       "1251070"
      ]
     },
     "execution_count": 44,
     "metadata": {},
     "output_type": "execute_result"
    }
   ],
   "source": [
    "len(df)"
   ]
  },
  {
   "cell_type": "code",
   "execution_count": 45,
   "metadata": {},
   "outputs": [
    {
     "data": {
      "text/plain": [
       "590951"
      ]
     },
     "execution_count": 45,
     "metadata": {},
     "output_type": "execute_result"
    }
   ],
   "source": [
    "# Get only data to predict\n",
    "df = df[df['no_churn_information'] == True]\n",
    "len(df)"
   ]
  },
  {
   "cell_type": "code",
   "execution_count": 46,
   "metadata": {},
   "outputs": [
    {
     "name": "stdout",
     "output_type": "stream",
     "text": [
      "Registros da safra de 201702\n"
     ]
    },
    {
     "data": {
      "text/plain": [
       "173975"
      ]
     },
     "execution_count": 46,
     "metadata": {},
     "output_type": "execute_result"
    }
   ],
   "source": [
    "# Get only users from the last month\n",
    "max_safra = df['safra'].max()\n",
    "print(f'Registros da safra de {max_safra}')\n",
    "\n",
    "df = df[df['safra'] == max_safra]\n",
    "len(df)"
   ]
  },
  {
   "cell_type": "code",
   "execution_count": 47,
   "metadata": {},
   "outputs": [],
   "source": [
    "# users_df = df.groupby('msno').tail(1)\n",
    "users_df = df.copy()"
   ]
  },
  {
   "cell_type": "code",
   "execution_count": 48,
   "metadata": {},
   "outputs": [
    {
     "name": "stdout",
     "output_type": "stream",
     "text": [
      "Qtd. total de registros: 173975\n",
      "Qtd. de previsões de churn: 44285 (25,45%)\n",
      "Qtd. de previsões de NÃO churn: 129690 (74,54%)\n"
     ]
    }
   ],
   "source": [
    "predicted_is_churn_df = users_df[users_df['predicted_is_churn'] == True]\n",
    "predicted_not_is_churn_df = users_df[users_df['predicted_is_churn'] == False]\n",
    "\n",
    "false_percentage = len(predicted_not_is_churn_df) * 100 / len(df)\n",
    "true_percentage = 100 - false_percentage\n",
    "\n",
    "print(f'Qtd. total de registros: {len(df)}')\n",
    "print(f'Qtd. de previsões de churn: {len(predicted_is_churn_df)} ({NUMBER_UTILS.format_float_number(true_percentage, 2)}%)')\n",
    "print(f'Qtd. de previsões de NÃO churn: {len(predicted_not_is_churn_df)} ({NUMBER_UTILS.format_float_number(false_percentage, 2)}%)')"
   ]
  },
  {
   "cell_type": "code",
   "execution_count": 49,
   "metadata": {},
   "outputs": [
    {
     "name": "stdout",
     "output_type": "stream",
     "text": [
      "Preço médio pago por mês: $132.32\n"
     ]
    }
   ],
   "source": [
    "mean_price = users_df['price_per_month'].mean()\n",
    "print(f'Preço médio pago por mês: ${mean_price:.2f}')"
   ]
  },
  {
   "cell_type": "code",
   "execution_count": 50,
   "metadata": {},
   "outputs": [
    {
     "name": "stdout",
     "output_type": "stream",
     "text": [
      "Total de usuários afetados pela ação: 44.285\n",
      "Valor total arrecadado pela ação proativa: $35.159.894,19\n",
      "Custos totais: $8.857.000\n",
      "Total líquido: $26.302.894,19\n"
     ]
    }
   ],
   "source": [
    "proactive_action_gross_income = len(predicted_is_churn_df) * SUCESS_USER_PROACTIVE_ACTION * mean_price * RETAIN_MONTHS_QTY\n",
    "costs = len(predicted_is_churn_df) * COST_TO_KEEP_CUSTOMER\n",
    "liquid_income = proactive_action_gross_income - costs\n",
    "\n",
    "print(f'Total de usuários afetados pela ação: {NUMBER_UTILS.format_integer_number(len(predicted_is_churn_df))}')\n",
    "\n",
    "print(f'Valor total arrecadado pela ação proativa: ${NUMBER_UTILS.format_float_number(proactive_action_gross_income, 2)}')\n",
    "print(f'Custos totais: ${NUMBER_UTILS.format_float_number(costs)}')\n",
    "print(f'Total líquido: ${NUMBER_UTILS.format_float_number(liquid_income, 2)}')"
   ]
  }
 ],
 "metadata": {
  "kernelspec": {
   "display_name": "Python 3",
   "language": "python",
   "name": "python3"
  },
  "language_info": {
   "codemirror_mode": {
    "name": "ipython",
    "version": 3
   },
   "file_extension": ".py",
   "mimetype": "text/x-python",
   "name": "python",
   "nbconvert_exporter": "python",
   "pygments_lexer": "ipython3",
   "version": "3.6.13"
  }
 },
 "nbformat": 4,
 "nbformat_minor": 2
}
