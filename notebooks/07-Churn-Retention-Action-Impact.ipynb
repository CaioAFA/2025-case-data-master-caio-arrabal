{
 "cells": [
  {
   "cell_type": "code",
   "execution_count": 9,
   "metadata": {},
   "outputs": [
    {
     "name": "stdout",
     "output_type": "stream",
     "text": [
      "The autoreload extension is already loaded. To reload it, use:\n",
      "  %reload_ext autoreload\n"
     ]
    }
   ],
   "source": [
    "%load_ext autoreload\n",
    "%autoreload 2"
   ]
  },
  {
   "cell_type": "code",
   "execution_count": 10,
   "metadata": {},
   "outputs": [],
   "source": [
    "from Utils.DataLoader import DataLoader\n",
    "from Utils.DataTransformer import DataTransformer\n",
    "from Utils.DuckDb.DuckDb import DuckDb\n",
    "from Utils.DatasetProcessor.DatasetProcessorUtils import DatasetProcessorUtils\n",
    "from Utils.DataAnalysis import DataAnalysis\n",
    "from datetime import datetime\n",
    "import pandas as pd\n",
    "from typing import List\n",
    "from Utils import PandasNotebookConfigs\n",
    "import project_config\n",
    "import numpy as np\n",
    "import matplotlib.pyplot as plt\n",
    "import joblib\n",
    "from datetime import datetime\n",
    "from Utils.Datetime import DatetimeUtils\n",
    "from Utils.Dict import DictUtils\n",
    "from Utils.Number import NumberUtils"
   ]
  },
  {
   "cell_type": "code",
   "execution_count": 11,
   "metadata": {},
   "outputs": [
    {
     "name": "stdout",
     "output_type": "stream",
     "text": [
      "Ajustando display.float.format para %.4f\n",
      "Ajustando prints de linhas e colunas\n"
     ]
    }
   ],
   "source": [
    "PandasNotebookConfigs.config()"
   ]
  },
  {
   "cell_type": "code",
   "execution_count": null,
   "metadata": {},
   "outputs": [],
   "source": [
    "# 50% of the users will renew the plan\n",
    "SUCESS_USER_PROACTIVE_ACTION = 0.50"
   ]
  },
  {
   "cell_type": "code",
   "execution_count": 12,
   "metadata": {},
   "outputs": [],
   "source": [
    "DUCK_DB = DuckDb()\n",
    "DATA_TRANSFORMER = DataTransformer()\n",
    "DATA_PROCESSOR_UTILS = DatasetProcessorUtils(DUCK_DB)\n",
    "DATETIME_UTILS = DatetimeUtils()\n",
    "DICT_UTILS = DictUtils()\n",
    "DATA_ANALYSIS = DataAnalysis()\n",
    "NUMBER_UTILS = NumberUtils()"
   ]
  },
  {
   "cell_type": "code",
   "execution_count": 13,
   "metadata": {},
   "outputs": [
    {
     "data": {
      "application/vnd.jupyter.widget-view+json": {
       "model_id": "27442bee89cc4d72ae38cded576c59d4",
       "version_major": 2,
       "version_minor": 0
      },
      "text/plain": [
       "FloatProgress(value=0.0, layout=Layout(width='auto'), style=ProgressStyle(bar_color='black'))"
      ]
     },
     "metadata": {},
     "output_type": "display_data"
    }
   ],
   "source": [
    "df = DUCK_DB.load_table(\n",
    "    project_config.PREDICTED_DATA_TABLE\n",
    ")"
   ]
  },
  {
   "cell_type": "code",
   "execution_count": 14,
   "metadata": {},
   "outputs": [
    {
     "data": {
      "text/plain": [
       "1251070"
      ]
     },
     "execution_count": 14,
     "metadata": {},
     "output_type": "execute_result"
    }
   ],
   "source": [
    "len(df)"
   ]
  },
  {
   "cell_type": "code",
   "execution_count": 27,
   "metadata": {},
   "outputs": [
    {
     "data": {
      "text/plain": [
       "590951"
      ]
     },
     "execution_count": 27,
     "metadata": {},
     "output_type": "execute_result"
    }
   ],
   "source": [
    "# Get only data to predict\n",
    "df = df[df['no_churn_information'] == True]\n",
    "len(df)"
   ]
  },
  {
   "cell_type": "code",
   "execution_count": 30,
   "metadata": {},
   "outputs": [
    {
     "name": "stdout",
     "output_type": "stream",
     "text": [
      "Preço médio pago por mês: $133.63\n"
     ]
    }
   ],
   "source": [
    "mean_price = df['price_per_month'].mean()\n",
    "print(f'Preço médio pago por mês: ${mean_price:.2f}')"
   ]
  },
  {
   "cell_type": "code",
   "execution_count": 31,
   "metadata": {},
   "outputs": [
    {
     "data": {
      "text/plain": [
       "(306184, 284767)"
      ]
     },
     "execution_count": 31,
     "metadata": {},
     "output_type": "execute_result"
    }
   ],
   "source": [
    "predicted_is_churn_df = df[df['predicted_is_churn'] == True]\n",
    "predicted_not_is_churn_df = df[df['predicted_is_churn'] == False]\n",
    "\n",
    "len(predicted_is_churn_df), len(predicted_not_is_churn_df)"
   ]
  },
  {
   "cell_type": "code",
   "execution_count": null,
   "metadata": {},
   "outputs": [
    {
     "name": "stdout",
     "output_type": "stream",
     "text": [
      "Valor total arrecadado pela ação proativa: $204.572.27..159.667.496\n"
     ]
    }
   ],
   "source": [
    "proactive_action_earn_value = (len(predicted_is_churn_df) / 2) * mean_price\n",
    "print(f'Valor total arrecadado pela ação proativa: ${NUMBER_UTILS.format_float_number(proactive_action_earn_value)}')"
   ]
  },
  {
   "cell_type": "code",
   "execution_count": 38,
   "metadata": {},
   "outputs": [
    {
     "data": {
      "text/plain": [
       "'100.02'"
      ]
     },
     "execution_count": 38,
     "metadata": {},
     "output_type": "execute_result"
    }
   ],
   "source": [
    "str(100.02)"
   ]
  }
 ],
 "metadata": {
  "kernelspec": {
   "display_name": "Python 3",
   "language": "python",
   "name": "python3"
  },
  "language_info": {
   "codemirror_mode": {
    "name": "ipython",
    "version": 3
   },
   "file_extension": ".py",
   "mimetype": "text/x-python",
   "name": "python",
   "nbconvert_exporter": "python",
   "pygments_lexer": "ipython3",
   "version": "3.10.8"
  }
 },
 "nbformat": 4,
 "nbformat_minor": 2
}
