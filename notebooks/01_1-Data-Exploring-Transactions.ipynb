{
 "cells": [
  {
   "cell_type": "markdown",
   "metadata": {},
   "source": [
    "## Infos\n",
    "### Transactions (20.712.225 linhas)\n",
    "\n",
    "| Campo | Tipo | Observações | Analisado |\n",
    "|-------|------|-------------|-----------|\n",
    "| msno | String | Sem valores nulos | ✅ |\n",
    "| payment_method_id | Int (categoria) | Sem valores nulos, 40 métodos | ✅ |\n",
    "| payment_plan_days | Int | Sem valores nulos | ✅ |\n",
    "| plan_list_price | Int | Sem valores nulos, 51 valores de planos | ✅ |\n",
    "| actual_amount_paid | Int | Sem valores nulos | ✅ |\n",
    "| is_auto_renew | Boolean | Sem valores nulos | ✅ |\n",
    "| transaction_date | Datetime | Sem valores nulos | ✅ |\n",
    "| membership_expire_date | Datetime | Sem valores nulos | ✅ |\n",
    "| is_cancel | Boolean | Sem valores nulos | ✅ |\n",
    "| safra | Datetime (ano + mês do campo transaction_date) | Sem valores nulos | ✅ |\n",
    "| discount | Int | Sem valores nulos, valor do plano - total pago | ✅ |\n",
    "| price_per_month | Int | Sem valores nulos, preço por mês | ✅ |\n",
    "| transaction_date_year | Int | (Gerada) Derivado de transaction_date | ✅ |\n",
    "| transaction_date_month | Int | (Gerada) Derivado de transaction_date | ✅ |\n",
    "| transaction_date_day | Int | (Gerada) Derivado de transaction_date | ✅ |\n",
    "| transaction_date_day_of_week | Int | (Gerada) Derivado de transaction_date | ✅ |\n",
    "| transaction_date_day_of_year | Int | (Gerada) Derivado de transaction_date | ✅ |\n",
    "| membership_expire_date_year | Int | (Gerada) Derivado de membership_expire_date | ✅ |\n",
    "| membership_expire_date_month | Int | (Gerada) Derivado de membership_expire_date | ✅ |\n",
    "| membership_expire_date_day | Int | (Gerada) Derivado de membership_expire_date | ✅ |\n",
    "| membership_expire_date_day_of_week | Int | (Gerada) Derivado de membership_expire_date | ✅ |\n",
    "| membership_expire_date_day_of_year | Int | (Gerada) Derivado de membership_expire_date | ✅ |\n",
    "\n",
    "<br>\n",
    "\n",
    "**TODO**<br>\n",
    "- Podemos remover o campo `safra` pois ele está contido em `transaction_date` ✅\n",
    "- Separar campos Datetime em ano, mês e dia\n",
    "    - transaction_date ✅\n",
    "    - membership_expire_date ✅\n",
    "- Criar um campo de \"desconto\": diferença entre o plano do preço e o valor pago ✅\n",
    "- Remover outliers do campo `membership_expire_date` ✅\n",
    "- Criar coluna preço / mês ✅"
   ]
  },
  {
   "cell_type": "code",
   "execution_count": 1,
   "metadata": {},
   "outputs": [],
   "source": [
    "%load_ext autoreload\n",
    "%autoreload 2"
   ]
  },
  {
   "cell_type": "code",
   "execution_count": null,
   "metadata": {},
   "outputs": [],
   "source": [
    "from Utils.DataLoader import DataLoader\n",
    "from Utils.DataAnalysis import DataAnalysis\n",
    "import pandas as pd\n",
    "import matplotlib.pyplot as plt\n",
    "from typing import List, Tuple\n",
    "from Utils import PandasNotebookConfigs"
   ]
  },
  {
   "cell_type": "code",
   "execution_count": null,
   "metadata": {},
   "outputs": [],
   "source": [
    "DATA_LOADER = DataLoader()\n",
    "DATA_ANALYSIS = DataAnalysis()\n",
    "\n",
    "PandasNotebookConfigs.config()"
   ]
  },
  {
   "cell_type": "markdown",
   "metadata": {},
   "source": [
    "# Transactions"
   ]
  },
  {
   "cell_type": "code",
   "execution_count": 7,
   "metadata": {},
   "outputs": [],
   "source": [
    "transactions_df = DATA_LOADER.load_transactions_df()"
   ]
  },
  {
   "cell_type": "code",
   "execution_count": 9,
   "metadata": {},
   "outputs": [
    {
     "data": {
      "text/html": [
       "<div>\n",
       "<style scoped>\n",
       "    .dataframe tbody tr th:only-of-type {\n",
       "        vertical-align: middle;\n",
       "    }\n",
       "\n",
       "    .dataframe tbody tr th {\n",
       "        vertical-align: top;\n",
       "    }\n",
       "\n",
       "    .dataframe thead th {\n",
       "        text-align: right;\n",
       "    }\n",
       "</style>\n",
       "<table border=\"1\" class=\"dataframe\">\n",
       "  <thead>\n",
       "    <tr style=\"text-align: right;\">\n",
       "      <th></th>\n",
       "      <th>price_per_month</th>\n",
       "      <th>actual_amount_paid</th>\n",
       "      <th>payment_plan_days</th>\n",
       "    </tr>\n",
       "  </thead>\n",
       "  <tbody>\n",
       "    <tr>\n",
       "      <th>0</th>\n",
       "      <td>130.83</td>\n",
       "      <td>1788</td>\n",
       "      <td>410</td>\n",
       "    </tr>\n",
       "    <tr>\n",
       "      <th>1</th>\n",
       "      <td>149.00</td>\n",
       "      <td>149</td>\n",
       "      <td>30</td>\n",
       "    </tr>\n",
       "    <tr>\n",
       "      <th>2</th>\n",
       "      <td>149.00</td>\n",
       "      <td>149</td>\n",
       "      <td>30</td>\n",
       "    </tr>\n",
       "    <tr>\n",
       "      <th>3</th>\n",
       "      <td>149.00</td>\n",
       "      <td>149</td>\n",
       "      <td>30</td>\n",
       "    </tr>\n",
       "    <tr>\n",
       "      <th>4</th>\n",
       "      <td>144.19</td>\n",
       "      <td>149</td>\n",
       "      <td>31</td>\n",
       "    </tr>\n",
       "  </tbody>\n",
       "</table>\n",
       "</div>"
      ],
      "text/plain": [
       "   price_per_month  actual_amount_paid  payment_plan_days\n",
       "0           130.83                1788                410\n",
       "1           149.00                 149                 30\n",
       "2           149.00                 149                 30\n",
       "3           149.00                 149                 30\n",
       "4           144.19                 149                 31"
      ]
     },
     "execution_count": 9,
     "metadata": {},
     "output_type": "execute_result"
    }
   ],
   "source": [
    "transactions_df[['price_per_month', 'actual_amount_paid', 'payment_plan_days']].head()"
   ]
  },
  {
   "cell_type": "code",
   "execution_count": 6,
   "metadata": {},
   "outputs": [
    {
     "data": {
      "text/html": [
       "<div>\n",
       "<style scoped>\n",
       "    .dataframe tbody tr th:only-of-type {\n",
       "        vertical-align: middle;\n",
       "    }\n",
       "\n",
       "    .dataframe tbody tr th {\n",
       "        vertical-align: top;\n",
       "    }\n",
       "\n",
       "    .dataframe thead th {\n",
       "        text-align: right;\n",
       "    }\n",
       "</style>\n",
       "<table border=\"1\" class=\"dataframe\">\n",
       "  <thead>\n",
       "    <tr style=\"text-align: right;\">\n",
       "      <th></th>\n",
       "      <th>msno</th>\n",
       "      <th>payment_method_id</th>\n",
       "      <th>payment_plan_days</th>\n",
       "      <th>plan_list_price</th>\n",
       "      <th>actual_amount_paid</th>\n",
       "      <th>is_auto_renew</th>\n",
       "      <th>transaction_date</th>\n",
       "      <th>membership_expire_date</th>\n",
       "      <th>is_cancel</th>\n",
       "      <th>transaction_date_year</th>\n",
       "      <th>transaction_date_month</th>\n",
       "      <th>transaction_date_day</th>\n",
       "      <th>transaction_date_day_of_week</th>\n",
       "      <th>transaction_date_day_of_year</th>\n",
       "      <th>membership_expire_date_year</th>\n",
       "      <th>membership_expire_date_month</th>\n",
       "      <th>membership_expire_date_day</th>\n",
       "      <th>membership_expire_date_day_of_week</th>\n",
       "      <th>membership_expire_date_day_of_year</th>\n",
       "      <th>discount</th>\n",
       "    </tr>\n",
       "  </thead>\n",
       "  <tbody>\n",
       "  </tbody>\n",
       "</table>\n",
       "</div>"
      ],
      "text/plain": [
       "Empty DataFrame\n",
       "Columns: [msno, payment_method_id, payment_plan_days, plan_list_price, actual_amount_paid, is_auto_renew, transaction_date, membership_expire_date, is_cancel, transaction_date_year, transaction_date_month, transaction_date_day, transaction_date_day_of_week, transaction_date_day_of_year, membership_expire_date_year, membership_expire_date_month, membership_expire_date_day, membership_expire_date_day_of_week, membership_expire_date_day_of_year, discount]\n",
       "Index: []"
      ]
     },
     "execution_count": 6,
     "metadata": {},
     "output_type": "execute_result"
    }
   ],
   "source": [
    "transactions_df[transactions_df['discount'] < 0]"
   ]
  },
  {
   "cell_type": "code",
   "execution_count": 18,
   "metadata": {},
   "outputs": [
    {
     "name": "stdout",
     "output_type": "stream",
     "text": [
      "Rows qty: 20705003\n"
     ]
    }
   ],
   "source": [
    "print(f'Rows qty: {len(transactions_df)}')"
   ]
  },
  {
   "cell_type": "code",
   "execution_count": 17,
   "metadata": {},
   "outputs": [
    {
     "data": {
      "text/plain": [
       "msno                                          object\n",
       "payment_method_id                              int64\n",
       "payment_plan_days                              int64\n",
       "plan_list_price                                int64\n",
       "actual_amount_paid                             int64\n",
       "is_auto_renew                                   bool\n",
       "transaction_date                      datetime64[ns]\n",
       "membership_expire_date                datetime64[ns]\n",
       "is_cancel                                       bool\n",
       "transaction_date_year                          int32\n",
       "transaction_date_month                         int32\n",
       "transaction_date_day                           int32\n",
       "transaction_date_day_of_week                   int32\n",
       "transaction_date_day_of_year                   int32\n",
       "membership_expire_date_year                    int32\n",
       "membership_expire_date_month                   int32\n",
       "membership_expire_date_day                     int32\n",
       "membership_expire_date_day_of_week             int32\n",
       "membership_expire_date_day_of_year             int32\n",
       "dtype: object"
      ]
     },
     "execution_count": 17,
     "metadata": {},
     "output_type": "execute_result"
    }
   ],
   "source": [
    "transactions_df.dtypes"
   ]
  },
  {
   "cell_type": "code",
   "execution_count": null,
   "metadata": {},
   "outputs": [],
   "source": [
    "# # Checking if safra is inside transaction_date column\n",
    "# # If yes, we can remove this field\n",
    "# for index, row in transactions_df.iterrows():\n",
    "#     if str(row['safra']) not in str(row['transaction_date']):\n",
    "#         print(f'Found! {row}')"
   ]
  },
  {
   "cell_type": "code",
   "execution_count": 8,
   "metadata": {},
   "outputs": [
    {
     "data": {
      "text/html": [
       "<div>\n",
       "<style scoped>\n",
       "    .dataframe tbody tr th:only-of-type {\n",
       "        vertical-align: middle;\n",
       "    }\n",
       "\n",
       "    .dataframe tbody tr th {\n",
       "        vertical-align: top;\n",
       "    }\n",
       "\n",
       "    .dataframe thead th {\n",
       "        text-align: right;\n",
       "    }\n",
       "</style>\n",
       "<table border=\"1\" class=\"dataframe\">\n",
       "  <thead>\n",
       "    <tr style=\"text-align: right;\">\n",
       "      <th></th>\n",
       "      <th>msno</th>\n",
       "      <th>payment_method_id</th>\n",
       "      <th>payment_plan_days</th>\n",
       "      <th>plan_list_price</th>\n",
       "      <th>actual_amount_paid</th>\n",
       "      <th>is_auto_renew</th>\n",
       "      <th>transaction_date</th>\n",
       "      <th>membership_expire_date</th>\n",
       "      <th>is_cancel</th>\n",
       "    </tr>\n",
       "  </thead>\n",
       "  <tbody>\n",
       "    <tr>\n",
       "      <th>0</th>\n",
       "      <td>+++IZseRRiQS9aaSkH6cMYU6bGDcxUieAi/tH67sC5s=</td>\n",
       "      <td>38</td>\n",
       "      <td>410</td>\n",
       "      <td>1788</td>\n",
       "      <td>1788</td>\n",
       "      <td>False</td>\n",
       "      <td>2015-11-21</td>\n",
       "      <td>2017-01-04</td>\n",
       "      <td>False</td>\n",
       "    </tr>\n",
       "    <tr>\n",
       "      <th>1</th>\n",
       "      <td>+++snpr7pmobhLKUgSHTv/mpkqgBT0tQJ0zQj6qKrqc=</td>\n",
       "      <td>41</td>\n",
       "      <td>30</td>\n",
       "      <td>149</td>\n",
       "      <td>149</td>\n",
       "      <td>True</td>\n",
       "      <td>2015-05-26</td>\n",
       "      <td>2015-06-26</td>\n",
       "      <td>False</td>\n",
       "    </tr>\n",
       "    <tr>\n",
       "      <th>2</th>\n",
       "      <td>+++snpr7pmobhLKUgSHTv/mpkqgBT0tQJ0zQj6qKrqc=</td>\n",
       "      <td>41</td>\n",
       "      <td>30</td>\n",
       "      <td>149</td>\n",
       "      <td>149</td>\n",
       "      <td>True</td>\n",
       "      <td>2015-09-26</td>\n",
       "      <td>2015-10-26</td>\n",
       "      <td>False</td>\n",
       "    </tr>\n",
       "    <tr>\n",
       "      <th>3</th>\n",
       "      <td>++/9R3sX37CjxbY/AaGvbwr3QkwElKBCtSvVzhCBDOk=</td>\n",
       "      <td>41</td>\n",
       "      <td>30</td>\n",
       "      <td>149</td>\n",
       "      <td>149</td>\n",
       "      <td>True</td>\n",
       "      <td>2016-06-15</td>\n",
       "      <td>2016-07-15</td>\n",
       "      <td>False</td>\n",
       "    </tr>\n",
       "    <tr>\n",
       "      <th>4</th>\n",
       "      <td>++/Gw1B9K+XOlB3hLTloeUK2QlCa2m+BJ8TrzGf7djI=</td>\n",
       "      <td>40</td>\n",
       "      <td>31</td>\n",
       "      <td>149</td>\n",
       "      <td>149</td>\n",
       "      <td>True</td>\n",
       "      <td>2015-01-13</td>\n",
       "      <td>2015-02-16</td>\n",
       "      <td>False</td>\n",
       "    </tr>\n",
       "  </tbody>\n",
       "</table>\n",
       "</div>"
      ],
      "text/plain": [
       "                                           msno  payment_method_id  \\\n",
       "0  +++IZseRRiQS9aaSkH6cMYU6bGDcxUieAi/tH67sC5s=                 38   \n",
       "1  +++snpr7pmobhLKUgSHTv/mpkqgBT0tQJ0zQj6qKrqc=                 41   \n",
       "2  +++snpr7pmobhLKUgSHTv/mpkqgBT0tQJ0zQj6qKrqc=                 41   \n",
       "3  ++/9R3sX37CjxbY/AaGvbwr3QkwElKBCtSvVzhCBDOk=                 41   \n",
       "4  ++/Gw1B9K+XOlB3hLTloeUK2QlCa2m+BJ8TrzGf7djI=                 40   \n",
       "\n",
       "   payment_plan_days  plan_list_price  actual_amount_paid  is_auto_renew  \\\n",
       "0                410             1788                1788          False   \n",
       "1                 30              149                 149           True   \n",
       "2                 30              149                 149           True   \n",
       "3                 30              149                 149           True   \n",
       "4                 31              149                 149           True   \n",
       "\n",
       "  transaction_date membership_expire_date  is_cancel  \n",
       "0       2015-11-21             2017-01-04      False  \n",
       "1       2015-05-26             2015-06-26      False  \n",
       "2       2015-09-26             2015-10-26      False  \n",
       "3       2016-06-15             2016-07-15      False  \n",
       "4       2015-01-13             2015-02-16      False  "
      ]
     },
     "execution_count": 8,
     "metadata": {},
     "output_type": "execute_result"
    }
   ],
   "source": [
    "transactions_df.head()"
   ]
  },
  {
   "cell_type": "code",
   "execution_count": 18,
   "metadata": {},
   "outputs": [
    {
     "data": {
      "text/plain": [
       "msno                      0\n",
       "payment_method_id         0\n",
       "payment_plan_days         0\n",
       "plan_list_price           0\n",
       "actual_amount_paid        0\n",
       "is_auto_renew             0\n",
       "transaction_date          0\n",
       "membership_expire_date    0\n",
       "is_cancel                 0\n",
       "dtype: int64"
      ]
     },
     "execution_count": 18,
     "metadata": {},
     "output_type": "execute_result"
    }
   ],
   "source": [
    "transactions_df.isna().sum()"
   ]
  },
  {
   "cell_type": "code",
   "execution_count": 17,
   "metadata": {},
   "outputs": [
    {
     "data": {
      "text/html": [
       "<div>\n",
       "<style scoped>\n",
       "    .dataframe tbody tr th:only-of-type {\n",
       "        vertical-align: middle;\n",
       "    }\n",
       "\n",
       "    .dataframe tbody tr th {\n",
       "        vertical-align: top;\n",
       "    }\n",
       "\n",
       "    .dataframe thead th {\n",
       "        text-align: right;\n",
       "    }\n",
       "</style>\n",
       "<table border=\"1\" class=\"dataframe\">\n",
       "  <thead>\n",
       "    <tr style=\"text-align: right;\">\n",
       "      <th></th>\n",
       "      <th>payment_method_id</th>\n",
       "      <th>payment_plan_days</th>\n",
       "      <th>plan_list_price</th>\n",
       "      <th>actual_amount_paid</th>\n",
       "      <th>transaction_date</th>\n",
       "      <th>membership_expire_date</th>\n",
       "    </tr>\n",
       "  </thead>\n",
       "  <tbody>\n",
       "    <tr>\n",
       "      <th>count</th>\n",
       "      <td>2.071222e+07</td>\n",
       "      <td>2.071222e+07</td>\n",
       "      <td>2.071222e+07</td>\n",
       "      <td>2.071222e+07</td>\n",
       "      <td>20712225</td>\n",
       "      <td>20712225</td>\n",
       "    </tr>\n",
       "    <tr>\n",
       "      <th>mean</th>\n",
       "      <td>3.892650e+01</td>\n",
       "      <td>3.142900e+01</td>\n",
       "      <td>1.402409e+02</td>\n",
       "      <td>1.428347e+02</td>\n",
       "      <td>2016-03-12 01:00:59.224674560</td>\n",
       "      <td>2016-04-15 15:00:59.945293568</td>\n",
       "    </tr>\n",
       "    <tr>\n",
       "      <th>min</th>\n",
       "      <td>1.000000e+00</td>\n",
       "      <td>0.000000e+00</td>\n",
       "      <td>0.000000e+00</td>\n",
       "      <td>0.000000e+00</td>\n",
       "      <td>2015-01-01 00:00:00</td>\n",
       "      <td>1970-01-01 00:00:00</td>\n",
       "    </tr>\n",
       "    <tr>\n",
       "      <th>25%</th>\n",
       "      <td>3.800000e+01</td>\n",
       "      <td>3.000000e+01</td>\n",
       "      <td>9.900000e+01</td>\n",
       "      <td>9.900000e+01</td>\n",
       "      <td>2015-09-09 00:00:00</td>\n",
       "      <td>2015-10-19 00:00:00</td>\n",
       "    </tr>\n",
       "    <tr>\n",
       "      <th>50%</th>\n",
       "      <td>4.100000e+01</td>\n",
       "      <td>3.000000e+01</td>\n",
       "      <td>1.490000e+02</td>\n",
       "      <td>1.490000e+02</td>\n",
       "      <td>2016-03-26 00:00:00</td>\n",
       "      <td>2016-05-03 00:00:00</td>\n",
       "    </tr>\n",
       "    <tr>\n",
       "      <th>75%</th>\n",
       "      <td>4.100000e+01</td>\n",
       "      <td>3.000000e+01</td>\n",
       "      <td>1.490000e+02</td>\n",
       "      <td>1.490000e+02</td>\n",
       "      <td>2016-09-28 00:00:00</td>\n",
       "      <td>2016-10-31 00:00:00</td>\n",
       "    </tr>\n",
       "    <tr>\n",
       "      <th>max</th>\n",
       "      <td>4.100000e+01</td>\n",
       "      <td>4.500000e+02</td>\n",
       "      <td>2.000000e+03</td>\n",
       "      <td>2.000000e+03</td>\n",
       "      <td>2017-02-28 00:00:00</td>\n",
       "      <td>2017-03-31 00:00:00</td>\n",
       "    </tr>\n",
       "    <tr>\n",
       "      <th>std</th>\n",
       "      <td>3.506286e+00</td>\n",
       "      <td>3.055983e+01</td>\n",
       "      <td>1.322768e+02</td>\n",
       "      <td>1.336094e+02</td>\n",
       "      <td>NaN</td>\n",
       "      <td>NaN</td>\n",
       "    </tr>\n",
       "  </tbody>\n",
       "</table>\n",
       "</div>"
      ],
      "text/plain": [
       "       payment_method_id  payment_plan_days  plan_list_price  \\\n",
       "count       2.071222e+07       2.071222e+07     2.071222e+07   \n",
       "mean        3.892650e+01       3.142900e+01     1.402409e+02   \n",
       "min         1.000000e+00       0.000000e+00     0.000000e+00   \n",
       "25%         3.800000e+01       3.000000e+01     9.900000e+01   \n",
       "50%         4.100000e+01       3.000000e+01     1.490000e+02   \n",
       "75%         4.100000e+01       3.000000e+01     1.490000e+02   \n",
       "max         4.100000e+01       4.500000e+02     2.000000e+03   \n",
       "std         3.506286e+00       3.055983e+01     1.322768e+02   \n",
       "\n",
       "       actual_amount_paid               transaction_date  \\\n",
       "count        2.071222e+07                       20712225   \n",
       "mean         1.428347e+02  2016-03-12 01:00:59.224674560   \n",
       "min          0.000000e+00            2015-01-01 00:00:00   \n",
       "25%          9.900000e+01            2015-09-09 00:00:00   \n",
       "50%          1.490000e+02            2016-03-26 00:00:00   \n",
       "75%          1.490000e+02            2016-09-28 00:00:00   \n",
       "max          2.000000e+03            2017-02-28 00:00:00   \n",
       "std          1.336094e+02                            NaN   \n",
       "\n",
       "              membership_expire_date  \n",
       "count                       20712225  \n",
       "mean   2016-04-15 15:00:59.945293568  \n",
       "min              1970-01-01 00:00:00  \n",
       "25%              2015-10-19 00:00:00  \n",
       "50%              2016-05-03 00:00:00  \n",
       "75%              2016-10-31 00:00:00  \n",
       "max              2017-03-31 00:00:00  \n",
       "std                              NaN  "
      ]
     },
     "execution_count": 17,
     "metadata": {},
     "output_type": "execute_result"
    }
   ],
   "source": [
    "transactions_df.describe()"
   ]
  },
  {
   "cell_type": "code",
   "execution_count": 12,
   "metadata": {},
   "outputs": [
    {
     "data": {
      "text/plain": [
       "<Axes: xlabel='transaction_date'>"
      ]
     },
     "execution_count": 12,
     "metadata": {},
     "output_type": "execute_result"
    },
    {
     "data": {
      "image/png": "[encoded data removed]",
      "text/plain": [
       "<Figure size 640x480 with 1 Axes>"
      ]
     },
     "metadata": {},
     "output_type": "display_data"
    }
   ],
   "source": [
    "transactions_df.transaction_date.dt.year.value_counts().plot.bar()"
   ]
  },
  {
   "cell_type": "code",
   "execution_count": 11,
   "metadata": {},
   "outputs": [
    {
     "data": {
      "text/plain": [
       "<Axes: xlabel='is_auto_renew'>"
      ]
     },
     "execution_count": 11,
     "metadata": {},
     "output_type": "execute_result"
    },
    {
     "data": {
      "image/png": "[encoded data removed]",
      "text/plain": [
       "<Figure size 640x480 with 1 Axes>"
      ]
     },
     "metadata": {},
     "output_type": "display_data"
    }
   ],
   "source": [
    "transactions_df.is_auto_renew.value_counts().plot.bar()"
   ]
  },
  {
   "cell_type": "code",
   "execution_count": 14,
   "metadata": {},
   "outputs": [
    {
     "data": {
      "text/plain": [
       "(is_cancel\n",
       " False    20031271\n",
       " True       680954\n",
       " Name: count, dtype: int64,\n",
       " <Axes: xlabel='is_cancel'>)"
      ]
     },
     "execution_count": 14,
     "metadata": {},
     "output_type": "execute_result"
    },
    {
     "data": {
      "image/png": "[encoded data removed]",
      "text/plain": [
       "<Figure size 640x480 with 1 Axes>"
      ]
     },
     "metadata": {},
     "output_type": "display_data"
    }
   ],
   "source": [
    "transactions_df.is_cancel.value_counts(), transactions_df.is_cancel.value_counts().plot.bar()"
   ]
  },
  {
   "cell_type": "code",
   "execution_count": 16,
   "metadata": {},
   "outputs": [
    {
     "data": {
      "text/plain": [
       "membership_expire_date\n",
       "2016    10662667\n",
       "2015     7038483\n",
       "2017     3003853\n",
       "2014        3553\n",
       "2013        2146\n",
       "1970        1499\n",
       "2012          12\n",
       "2010           3\n",
       "2007           3\n",
       "1999           2\n",
       "2009           2\n",
       "2005           1\n",
       "2008           1\n",
       "Name: count, dtype: int64"
      ]
     },
     "execution_count": 16,
     "metadata": {},
     "output_type": "execute_result"
    }
   ],
   "source": [
    "transactions_df.membership_expire_date.dt.year.value_counts()"
   ]
  },
  {
   "cell_type": "code",
   "execution_count": 21,
   "metadata": {},
   "outputs": [
    {
     "data": {
      "text/plain": [
       "40"
      ]
     },
     "execution_count": 21,
     "metadata": {},
     "output_type": "execute_result"
    }
   ],
   "source": [
    "len(transactions_df.payment_method_id.unique())"
   ]
  },
  {
   "cell_type": "code",
   "execution_count": 27,
   "metadata": {},
   "outputs": [
    {
     "data": {
      "text/plain": [
       "51"
      ]
     },
     "execution_count": 27,
     "metadata": {},
     "output_type": "execute_result"
    }
   ],
   "source": [
    "len(transactions_df.plan_list_price.unique())"
   ]
  },
  {
   "cell_type": "code",
   "execution_count": 32,
   "metadata": {},
   "outputs": [
    {
     "data": {
      "text/plain": [
       "51"
      ]
     },
     "execution_count": 32,
     "metadata": {},
     "output_type": "execute_result"
    }
   ],
   "source": [
    "len(transactions_df.plan_list_price.value_counts())"
   ]
  },
  {
   "cell_type": "code",
   "execution_count": 37,
   "metadata": {},
   "outputs": [
    {
     "data": {
      "text/plain": [
       "array([410,  30,  31,   7,   0, 395, 180,  45, 195,  60,  10, 120, 100,\n",
       "       360, 200,  90,  14,   1,  99, 110,  35, 400,  21, 450, 240,  66,\n",
       "        70, 365,  80, 270,   3,  15, 230,   2,  95, 425, 415])"
      ]
     },
     "execution_count": 37,
     "metadata": {},
     "output_type": "execute_result"
    }
   ],
   "source": [
    "transactions_df.payment_plan_days.unique()"
   ]
  },
  {
   "cell_type": "code",
   "execution_count": 41,
   "metadata": {},
   "outputs": [
    {
     "data": {
      "text/plain": [
       "(actual_amount_paid\n",
       " 149     11998045\n",
       " 99       4776059\n",
       " 129      1124259\n",
       " 0        1047843\n",
       " 180       656705\n",
       " 150       373391\n",
       " 119       322854\n",
       " 894       111410\n",
       " 1788       82809\n",
       " 100        76237\n",
       " 536        44129\n",
       " 480        22927\n",
       " 1599       11991\n",
       " 477        10752\n",
       " 799         6422\n",
       " 300         5496\n",
       " 1200        5313\n",
       " 298         5167\n",
       " 930         5063\n",
       " 134         4625\n",
       " 120         4462\n",
       " 35          4352\n",
       " 447         3831\n",
       " 450         1379\n",
       " 500         1117\n",
       " 699          887\n",
       " 50           751\n",
       " 1000         741\n",
       " 124          596\n",
       " 131          571\n",
       " 350          568\n",
       " 400          316\n",
       " 105          259\n",
       " 70           195\n",
       " 143          129\n",
       " 2000         119\n",
       " 1            111\n",
       " 1150          95\n",
       " 596           64\n",
       " 10            54\n",
       " 15            35\n",
       " 127           29\n",
       " 265           20\n",
       " 1520          13\n",
       " 800           11\n",
       " 41             4\n",
       " 600            3\n",
       " 30             3\n",
       " 210            3\n",
       " 760            2\n",
       " 1825           2\n",
       " 849            1\n",
       " 45             1\n",
       " 1800           1\n",
       " 890            1\n",
       " 1799           1\n",
       " 1802           1\n",
       " Name: count, dtype: int64,\n",
       " <Axes: xlabel='actual_amount_paid'>)"
      ]
     },
     "execution_count": 41,
     "metadata": {},
     "output_type": "execute_result"
    },
    {
     "data": {
      "image/png": "[encoded data removed]",
      "text/plain": [
       "<Figure size 640x480 with 1 Axes>"
      ]
     },
     "metadata": {},
     "output_type": "display_data"
    }
   ],
   "source": [
    "transactions_df.actual_amount_paid.value_counts(), transactions_df.actual_amount_paid.value_counts()[:20].plot.bar()"
   ]
  }
 ],
 "metadata": {
  "kernelspec": {
   "display_name": "Python 3",
   "language": "python",
   "name": "python3"
  },
  "language_info": {
   "codemirror_mode": {
    "name": "ipython",
    "version": 3
   },
   "file_extension": ".py",
   "mimetype": "text/x-python",
   "name": "python",
   "nbconvert_exporter": "python",
   "pygments_lexer": "ipython3",
   "version": "3.12.9"
  }
 },
 "nbformat": 4,
 "nbformat_minor": 2
}
