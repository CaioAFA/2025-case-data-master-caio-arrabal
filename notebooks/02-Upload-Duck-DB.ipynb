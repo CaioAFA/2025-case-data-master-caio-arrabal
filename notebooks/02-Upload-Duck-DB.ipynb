{
 "cells": [
  {
   "cell_type": "code",
   "execution_count": null,
   "metadata": {},
   "outputs": [],
   "source": [
    "import duckdb\n",
    "from Utils.DataLoader import DataLoader\n",
    "from datetime import datetime\n",
    "import project_config"
   ]
  },
  {
   "cell_type": "code",
   "execution_count": 3,
   "metadata": {},
   "outputs": [],
   "source": [
    "DATA_LOADER = DataLoader()"
   ]
  },
  {
   "cell_type": "code",
   "execution_count": 4,
   "metadata": {},
   "outputs": [
    {
     "name": "stdout",
     "output_type": "stream",
     "text": [
      "Carregando DataFrame da tabela transactions\n",
      "Subindo dados no DuckDB\n"
     ]
    },
    {
     "data": {
      "application/vnd.jupyter.widget-view+json": {
       "model_id": "dacc795c5ac24e0e81ee2b284dcc27f5",
       "version_major": 2,
       "version_minor": 0
      },
      "text/plain": [
       "FloatProgress(value=0.0, layout=Layout(width='auto'), style=ProgressStyle(bar_color='black'))"
      ]
     },
     "metadata": {},
     "output_type": "display_data"
    },
    {
     "name": "stdout",
     "output_type": "stream",
     "text": [
      "Limpando DataFrame\n",
      "Carregando DataFrame da tabela members\n",
      "Subindo dados no DuckDB\n"
     ]
    },
    {
     "data": {
      "application/vnd.jupyter.widget-view+json": {
       "model_id": "fe4b938310a84843be81ce90c9e9f9cf",
       "version_major": 2,
       "version_minor": 0
      },
      "text/plain": [
       "FloatProgress(value=0.0, layout=Layout(width='auto'), style=ProgressStyle(bar_color='black'))"
      ]
     },
     "metadata": {},
     "output_type": "display_data"
    },
    {
     "name": "stdout",
     "output_type": "stream",
     "text": [
      "Limpando DataFrame\n",
      "Carregando DataFrame da tabela user_logs\n",
      "Subindo dados no DuckDB\n"
     ]
    },
    {
     "data": {
      "application/vnd.jupyter.widget-view+json": {
       "model_id": "5ba87cf4d6c6494e87106fd880dfb8ab",
       "version_major": 2,
       "version_minor": 0
      },
      "text/plain": [
       "FloatProgress(value=0.0, layout=Layout(width='auto'), style=ProgressStyle(bar_color='black'))"
      ]
     },
     "metadata": {},
     "output_type": "display_data"
    },
    {
     "name": "stdout",
     "output_type": "stream",
     "text": [
      "Limpando DataFrame\n"
     ]
    }
   ],
   "source": [
    "jobs = [\n",
    "    [DATA_LOADER.load_transactions_df, project_config.DUCKDB_TRANSACTIONS_DATABASE],\n",
    "    [DATA_LOADER.load_members_df, project_config.DUCKDB_MEMBERS_DATABASE],\n",
    "    [DATA_LOADER.load_user_logs_df, project_config.DUCKDB_USER_LOGS_DATABASE],\n",
    "]\n",
    "\n",
    "for j in jobs:\n",
    "    load_df, table_name = j\n",
    "\n",
    "    print(f'Carregando DataFrame da tabela {table_name}')\n",
    "    df = load_df()\n",
    "\n",
    "    print(f'Subindo dados no DuckDB')\n",
    "\n",
    "    temp_table = f'my_temp_table_{table_name}'\n",
    "\n",
    "    conn = duckdb.connect(project_config.DUCKDB_FILE_PATH)\n",
    "    conn.register(temp_table, df)\n",
    "    conn.execute(f\"CREATE TABLE IF NOT EXISTS {table_name} AS SELECT * FROM {temp_table}\")\n",
    "\n",
    "    print(f'Limpando DataFrame')\n",
    "    df = None"
   ]
  },
  {
   "cell_type": "code",
   "execution_count": null,
   "metadata": {},
   "outputs": [
    {
     "data": {
      "application/vnd.jupyter.widget-view+json": {
       "model_id": "eefd61f03cdb4975b8f4c509087719e2",
       "version_major": 2,
       "version_minor": 0
      },
      "text/plain": [
       "FloatProgress(value=0.0, layout=Layout(width='auto'), style=ProgressStyle(bar_color='black'))"
      ]
     },
     "metadata": {},
     "output_type": "display_data"
    },
    {
     "data": {
      "text/plain": [
       "<duckdb.duckdb.DuckDBPyConnection at 0x7f4eed47cb30>"
      ]
     },
     "execution_count": 5,
     "metadata": {},
     "output_type": "execute_result"
    }
   ],
   "source": [
    "conn.execute(\n",
    "    'ALTER TABLE database.main.user_logs ADD CONSTRAINT user_logs_pk PRIMARY KEY (msno,safra);'\n",
    ")\n",
    "\n",
    "conn.execute(\n",
    "    'ALTER TABLE database.main.transactions ADD CONSTRAINT transactions_pk PRIMARY KEY (msno,safra);'\n",
    ")\n",
    "\n",
    "conn.execute(\n",
    "    'ALTER TABLE database.main.members ADD CONSTRAINT members_pk PRIMARY KEY (msno,safra);'\n",
    ")"
   ]
  }
 ],
 "metadata": {
  "kernelspec": {
   "display_name": "Python 3",
   "language": "python",
   "name": "python3"
  },
  "language_info": {
   "codemirror_mode": {
    "name": "ipython",
    "version": 3
   },
   "file_extension": ".py",
   "mimetype": "text/x-python",
   "name": "python",
   "nbconvert_exporter": "python",
   "pygments_lexer": "ipython3",
   "version": "3.10.13"
  }
 },
 "nbformat": 4,
 "nbformat_minor": 2
}
