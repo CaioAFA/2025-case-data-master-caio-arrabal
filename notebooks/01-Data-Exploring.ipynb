{
 "cells": [
  {
   "cell_type": "code",
   "execution_count": 1,
   "metadata": {},
   "outputs": [],
   "source": [
    "import pandas as pd"
   ]
  },
  {
   "cell_type": "markdown",
   "metadata": {},
   "source": [
    "# Transactions"
   ]
  },
  {
   "cell_type": "code",
   "execution_count": 18,
   "metadata": {},
   "outputs": [
    {
     "ename": "",
     "evalue": "",
     "output_type": "error",
     "traceback": [
      "\u001b[1;31mThe Kernel crashed while executing code in the current cell or a previous cell. \n",
      "\u001b[1;31mPlease review the code in the cell(s) to identify a possible cause of the failure. \n",
      "\u001b[1;31mClick <a href='https://aka.ms/vscodeJupyterKernelCrash'>here</a> for more info. \n",
      "\u001b[1;31mView Jupyter <a href='command:jupyter.viewOutput'>log</a> for further details."
     ]
    }
   ],
   "source": [
    "transactions_df = pd.read_parquet('../data/transactions.parquet')"
   ]
  },
  {
   "cell_type": "code",
   "execution_count": null,
   "metadata": {},
   "outputs": [],
   "source": [
    "print(f'Rows qty: {len(transactions_df)}')"
   ]
  },
  {
   "cell_type": "code",
   "execution_count": null,
   "metadata": {},
   "outputs": [
    {
     "ename": "NameError",
     "evalue": "name 'transactions_df' is not defined",
     "output_type": "error",
     "traceback": [
      "\u001b[0;31m---------------------------------------------------------------------------\u001b[0m",
      "\u001b[0;31mNameError\u001b[0m                                 Traceback (most recent call last)",
      "Cell \u001b[0;32mIn[17], line 1\u001b[0m\n\u001b[0;32m----> 1\u001b[0m transactions_df\u001b[38;5;241m.\u001b[39mcolumns\n",
      "\u001b[0;31mNameError\u001b[0m: name 'transactions_df' is not defined"
     ]
    }
   ],
   "source": [
    "transactions_df.columns"
   ]
  },
  {
   "cell_type": "code",
   "execution_count": null,
   "metadata": {},
   "outputs": [],
   "source": [
    "transactions_df.head()"
   ]
  },
  {
   "cell_type": "markdown",
   "metadata": {},
   "source": [
    "# Members"
   ]
  },
  {
   "cell_type": "code",
   "execution_count": null,
   "metadata": {},
   "outputs": [],
   "source": [
    "members_df = pd.read_parquet(\n",
    "    '../data/members.parquet'\n",
    ")"
   ]
  },
  {
   "cell_type": "code",
   "execution_count": 11,
   "metadata": {},
   "outputs": [
    {
     "name": "stdout",
     "output_type": "stream",
     "text": [
      "Rows qty: 63867246\n"
     ]
    }
   ],
   "source": [
    "print(f'Rows qty: {len(members_df)}')"
   ]
  },
  {
   "cell_type": "code",
   "execution_count": 16,
   "metadata": {},
   "outputs": [
    {
     "data": {
      "text/plain": [
       "Index(['msno', 'safra', 'registration_init_time', 'city', 'bd', 'gender',\n",
       "       'registered_via', 'is_ativo'],\n",
       "      dtype='object')"
      ]
     },
     "execution_count": 16,
     "metadata": {},
     "output_type": "execute_result"
    }
   ],
   "source": [
    "members_df.columns"
   ]
  },
  {
   "cell_type": "code",
   "execution_count": 3,
   "metadata": {},
   "outputs": [
    {
     "data": {
      "text/html": [
       "<div>\n",
       "<style scoped>\n",
       "    .dataframe tbody tr th:only-of-type {\n",
       "        vertical-align: middle;\n",
       "    }\n",
       "\n",
       "    .dataframe tbody tr th {\n",
       "        vertical-align: top;\n",
       "    }\n",
       "\n",
       "    .dataframe thead th {\n",
       "        text-align: right;\n",
       "    }\n",
       "</style>\n",
       "<table border=\"1\" class=\"dataframe\">\n",
       "  <thead>\n",
       "    <tr style=\"text-align: right;\">\n",
       "      <th></th>\n",
       "      <th>msno</th>\n",
       "      <th>safra</th>\n",
       "      <th>registration_init_time</th>\n",
       "      <th>city</th>\n",
       "      <th>bd</th>\n",
       "      <th>gender</th>\n",
       "      <th>registered_via</th>\n",
       "      <th>is_ativo</th>\n",
       "    </tr>\n",
       "  </thead>\n",
       "  <tbody>\n",
       "    <tr>\n",
       "      <th>0</th>\n",
       "      <td>+++snpr7pmobhLKUgSHTv/mpkqgBT0tQJ0zQj6qKrqc=</td>\n",
       "      <td>201612</td>\n",
       "      <td>20140927</td>\n",
       "      <td>1</td>\n",
       "      <td>0</td>\n",
       "      <td>None</td>\n",
       "      <td>7</td>\n",
       "      <td>1</td>\n",
       "    </tr>\n",
       "    <tr>\n",
       "      <th>1</th>\n",
       "      <td>++/AwGzubug3gT6J+0STBGMdWKxaM+UFZTI8Tcmq4To=</td>\n",
       "      <td>201607</td>\n",
       "      <td>20150322</td>\n",
       "      <td>1</td>\n",
       "      <td>0</td>\n",
       "      <td>None</td>\n",
       "      <td>9</td>\n",
       "      <td>0</td>\n",
       "    </tr>\n",
       "    <tr>\n",
       "      <th>2</th>\n",
       "      <td>++/Gw1B9K+XOlB3hLTloeUK2QlCa2m+BJ8TrzGf7djI=</td>\n",
       "      <td>201601</td>\n",
       "      <td>20121217</td>\n",
       "      <td>15</td>\n",
       "      <td>32</td>\n",
       "      <td>male</td>\n",
       "      <td>3</td>\n",
       "      <td>1</td>\n",
       "    </tr>\n",
       "    <tr>\n",
       "      <th>3</th>\n",
       "      <td>++02XbtviomSxcIBUHMOiJkjRxdicTXSfiVqLdsr5lo=</td>\n",
       "      <td>201603</td>\n",
       "      <td>20131112</td>\n",
       "      <td>14</td>\n",
       "      <td>21</td>\n",
       "      <td>male</td>\n",
       "      <td>7</td>\n",
       "      <td>0</td>\n",
       "    </tr>\n",
       "    <tr>\n",
       "      <th>4</th>\n",
       "      <td>++0O0Bq04sB/9ZcOS+pajpYL2Hin9jCqnc/8bKzKFuE=</td>\n",
       "      <td>201610</td>\n",
       "      <td>20141021</td>\n",
       "      <td>5</td>\n",
       "      <td>33</td>\n",
       "      <td>male</td>\n",
       "      <td>3</td>\n",
       "      <td>0</td>\n",
       "    </tr>\n",
       "  </tbody>\n",
       "</table>\n",
       "</div>"
      ],
      "text/plain": [
       "                                           msno   safra  \\\n",
       "0  +++snpr7pmobhLKUgSHTv/mpkqgBT0tQJ0zQj6qKrqc=  201612   \n",
       "1  ++/AwGzubug3gT6J+0STBGMdWKxaM+UFZTI8Tcmq4To=  201607   \n",
       "2  ++/Gw1B9K+XOlB3hLTloeUK2QlCa2m+BJ8TrzGf7djI=  201601   \n",
       "3  ++02XbtviomSxcIBUHMOiJkjRxdicTXSfiVqLdsr5lo=  201603   \n",
       "4  ++0O0Bq04sB/9ZcOS+pajpYL2Hin9jCqnc/8bKzKFuE=  201610   \n",
       "\n",
       "  registration_init_time city  bd gender registered_via  is_ativo  \n",
       "0               20140927    1   0   None              7         1  \n",
       "1               20150322    1   0   None              9         0  \n",
       "2               20121217   15  32   male              3         1  \n",
       "3               20131112   14  21   male              7         0  \n",
       "4               20141021    5  33   male              3         0  "
      ]
     },
     "execution_count": 3,
     "metadata": {},
     "output_type": "execute_result"
    }
   ],
   "source": [
    "members_df.head()"
   ]
  },
  {
   "cell_type": "markdown",
   "metadata": {},
   "source": [
    "# User Logs"
   ]
  },
  {
   "cell_type": "code",
   "execution_count": 12,
   "metadata": {},
   "outputs": [],
   "source": [
    "user_logs_df = pd.read_parquet('../data/user_logs.parquet')"
   ]
  },
  {
   "cell_type": "code",
   "execution_count": 13,
   "metadata": {},
   "outputs": [
    {
     "name": "stdout",
     "output_type": "stream",
     "text": [
      "Rows qty: 26758971\n"
     ]
    }
   ],
   "source": [
    "print(f'Rows qty: {len(user_logs_df)}')"
   ]
  },
  {
   "cell_type": "code",
   "execution_count": 15,
   "metadata": {},
   "outputs": [
    {
     "data": {
      "text/plain": [
       "Index(['msno', 'safra', 'num_25', 'num_50', 'num_75', 'num_985', 'num_100',\n",
       "       'num_unq', 'total_secs'],\n",
       "      dtype='object')"
      ]
     },
     "execution_count": 15,
     "metadata": {},
     "output_type": "execute_result"
    }
   ],
   "source": [
    "user_logs_df.columns"
   ]
  },
  {
   "cell_type": "code",
   "execution_count": 14,
   "metadata": {},
   "outputs": [
    {
     "data": {
      "text/html": [
       "<div>\n",
       "<style scoped>\n",
       "    .dataframe tbody tr th:only-of-type {\n",
       "        vertical-align: middle;\n",
       "    }\n",
       "\n",
       "    .dataframe tbody tr th {\n",
       "        vertical-align: top;\n",
       "    }\n",
       "\n",
       "    .dataframe thead th {\n",
       "        text-align: right;\n",
       "    }\n",
       "</style>\n",
       "<table border=\"1\" class=\"dataframe\">\n",
       "  <thead>\n",
       "    <tr style=\"text-align: right;\">\n",
       "      <th></th>\n",
       "      <th>msno</th>\n",
       "      <th>safra</th>\n",
       "      <th>num_25</th>\n",
       "      <th>num_50</th>\n",
       "      <th>num_75</th>\n",
       "      <th>num_985</th>\n",
       "      <th>num_100</th>\n",
       "      <th>num_unq</th>\n",
       "      <th>total_secs</th>\n",
       "    </tr>\n",
       "  </thead>\n",
       "  <tbody>\n",
       "    <tr>\n",
       "      <th>0</th>\n",
       "      <td>SwlrSivYHoKF9V5wm1YYYAnjHpd9y3OPjI9rDUhGJ3k=</td>\n",
       "      <td>201701</td>\n",
       "      <td>121.0</td>\n",
       "      <td>28.0</td>\n",
       "      <td>14.0</td>\n",
       "      <td>29.0</td>\n",
       "      <td>704.0</td>\n",
       "      <td>827.0</td>\n",
       "      <td>184606.903</td>\n",
       "    </tr>\n",
       "    <tr>\n",
       "      <th>1</th>\n",
       "      <td>rE5wSmHEF1Dhu55zhkiGB1HvotdlSHcIMGXv6VcqO2A=</td>\n",
       "      <td>201605</td>\n",
       "      <td>26.0</td>\n",
       "      <td>2.0</td>\n",
       "      <td>5.0</td>\n",
       "      <td>6.0</td>\n",
       "      <td>462.0</td>\n",
       "      <td>256.0</td>\n",
       "      <td>119439.485</td>\n",
       "    </tr>\n",
       "    <tr>\n",
       "      <th>2</th>\n",
       "      <td>hx+cyaQ/Jcdr/Z5foa/Cn0PXUzC/F7QO/NQvWQS1Qtc=</td>\n",
       "      <td>201611</td>\n",
       "      <td>161.0</td>\n",
       "      <td>71.0</td>\n",
       "      <td>49.0</td>\n",
       "      <td>34.0</td>\n",
       "      <td>668.0</td>\n",
       "      <td>891.0</td>\n",
       "      <td>204791.242</td>\n",
       "    </tr>\n",
       "    <tr>\n",
       "      <th>3</th>\n",
       "      <td>53QW6B70J23X2UCvxaaUppjyE0b6X9nzP79W4huZv+Q=</td>\n",
       "      <td>201502</td>\n",
       "      <td>37.0</td>\n",
       "      <td>9.0</td>\n",
       "      <td>3.0</td>\n",
       "      <td>9.0</td>\n",
       "      <td>408.0</td>\n",
       "      <td>447.0</td>\n",
       "      <td>101186.041</td>\n",
       "    </tr>\n",
       "    <tr>\n",
       "      <th>4</th>\n",
       "      <td>/0S1N/oRyxGLZlzxnW5rOjfo0ZAls9EH23ahuDNuqz8=</td>\n",
       "      <td>201506</td>\n",
       "      <td>205.0</td>\n",
       "      <td>49.0</td>\n",
       "      <td>23.0</td>\n",
       "      <td>21.0</td>\n",
       "      <td>225.0</td>\n",
       "      <td>489.0</td>\n",
       "      <td>69957.524</td>\n",
       "    </tr>\n",
       "  </tbody>\n",
       "</table>\n",
       "</div>"
      ],
      "text/plain": [
       "                                           msno   safra  num_25  num_50  \\\n",
       "0  SwlrSivYHoKF9V5wm1YYYAnjHpd9y3OPjI9rDUhGJ3k=  201701   121.0    28.0   \n",
       "1  rE5wSmHEF1Dhu55zhkiGB1HvotdlSHcIMGXv6VcqO2A=  201605    26.0     2.0   \n",
       "2  hx+cyaQ/Jcdr/Z5foa/Cn0PXUzC/F7QO/NQvWQS1Qtc=  201611   161.0    71.0   \n",
       "3  53QW6B70J23X2UCvxaaUppjyE0b6X9nzP79W4huZv+Q=  201502    37.0     9.0   \n",
       "4  /0S1N/oRyxGLZlzxnW5rOjfo0ZAls9EH23ahuDNuqz8=  201506   205.0    49.0   \n",
       "\n",
       "   num_75  num_985  num_100  num_unq  total_secs  \n",
       "0    14.0     29.0    704.0    827.0  184606.903  \n",
       "1     5.0      6.0    462.0    256.0  119439.485  \n",
       "2    49.0     34.0    668.0    891.0  204791.242  \n",
       "3     3.0      9.0    408.0    447.0  101186.041  \n",
       "4    23.0     21.0    225.0    489.0   69957.524  "
      ]
     },
     "execution_count": 14,
     "metadata": {},
     "output_type": "execute_result"
    }
   ],
   "source": [
    "user_logs_df.head()"
   ]
  },
  {
   "cell_type": "code",
   "execution_count": null,
   "metadata": {},
   "outputs": [],
   "source": []
  }
 ],
 "metadata": {
  "kernelspec": {
   "display_name": "Python 3",
   "language": "python",
   "name": "python3"
  },
  "language_info": {
   "codemirror_mode": {
    "name": "ipython",
    "version": 3
   },
   "file_extension": ".py",
   "mimetype": "text/x-python",
   "name": "python",
   "nbconvert_exporter": "python",
   "pygments_lexer": "ipython3",
   "version": "3.12.9"
  }
 },
 "nbformat": 4,
 "nbformat_minor": 2
}
