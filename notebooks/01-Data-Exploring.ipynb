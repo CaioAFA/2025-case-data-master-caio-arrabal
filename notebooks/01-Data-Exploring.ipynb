{
 "cells": [
  {
   "cell_type": "markdown",
   "metadata": {},
   "source": [
    "## Infos\n",
    "### Transactions (20.712.225 linhas)\n",
    "\n",
    "| Campo | Tipo | Observações | Analisado |\n",
    "|-------|------|-------------|-----------|\n",
    "| msno | String | Sem valores nulos | ✅ |\n",
    "| payment_method_id | Int (categoria) | Sem valores nulos, 40 métodos | ✅ |\n",
    "| payment_plan_days | Int | Sem valores nulos | ✅ |\n",
    "| plan_list_price | Int | Sem valores nulos, 51 valores de planos | ✅ |\n",
    "| actual_amount_paid | Int | Sem valores nulos | ✅ |\n",
    "| is_auto_renew | Boolean | Sem valores nulos | ✅ |\n",
    "| transaction_date | Datetime | Sem valores nulos | ✅ |\n",
    "| membership_expire_date | Datetime | Sem valores nulos | ✅ |\n",
    "| is_cancel | Boolean | Sem valores nulos | ✅ |\n",
    "| safra | Datetime (ano + mês do campo transaction_date) | Sem valores nulos | ✅ |\n",
    "\n",
    "<br>\n",
    "\n",
    "**TODO**<br>\n",
    "- Podemos remover o campo `safra` pois ele está contido em `transaction_date`\n",
    "- Separar campos Datetime em ano, mês e dia\n",
    "- Criar um campo de \"desconto\": diferença entre o plano do preço e o valor pago\n",
    "- Remover outliers do campo `membership_expire_date`\n",
    "- Criar coluna preço / mês\n",
    "\n",
    "__________\n",
    "### Members (63.867.246 linhas)\n",
    "| Campo | Tipo | Observações | Analisado |\n",
    "|-------|------|-------------|-----------|\n",
    "| msno | String | Sem valores nulos | ✅ |\n",
    "| safra | Datetime (YYYYMM) | Sem valores nulos, vai até 201612 | ✅ |\n",
    "| registration_init_time | Datetime | Sem valores nulos | ✅ |\n",
    "| city | Int (categoria) | Sem valores nulos | ✅ |\n",
    "| bd | Int | Sem valores nulos | ✅ |\n",
    "| gender | String / Nulo (categoria) | Possui valores nulos | ✅ |\n",
    "| registered_via | Int (categoria) | Sem valores nulos | ✅ |\n",
    "| is_ativo | Boolean | Sem valores nulos, grande maioria inativa | ✅ |\n",
    "\n",
    "<br>\n",
    "\n",
    "**TODO**<br>\n",
    "- Renomear \"is_ativo\" para \"is_active\" para manter o padrão de nomenclatura\n",
    "- Separar campos Datetime em ano, mês e dia\n",
    "- Tratar campo \"gender\" marcado como nulo\n",
    "- Remover outliers de `bd` + tratar valores 0 (grande maioria)\n",
    "\n",
    "__________\n",
    "### User logs (26.758.971 linhas)\n",
    "| Campo | Tipo | Observações | Analisado |\n",
    "|-------|------|-------------|-----------|\n",
    "| msno | String | Há valores repetidos | |\n",
    "| safra | Integer | | |\n",
    "| num_25 | Integer | | |\n",
    "| num_50 | Integer | | |\n",
    "| num_75 | Integer | | |\n",
    "| num_985 | Integer | | |\n",
    "| num_100 | Integer | | |\n",
    "| num_unq | Integer | | |\n",
    "| total_secs | Float | | |\n",
    "\n",
    "<br>\n",
    "\n",
    "**TODO**<br>\n",
    "- Transformar campo safra de data para\n",
    "- Separar campos Datetime em ano, mês e dia"
   ]
  },
  {
   "cell_type": "code",
   "execution_count": 1,
   "metadata": {},
   "outputs": [],
   "source": [
    "%load_ext autoreload\n",
    "%autoreload 2"
   ]
  },
  {
   "cell_type": "code",
   "execution_count": 2,
   "metadata": {},
   "outputs": [],
   "source": [
    "from Utils.DataLoader import DataLoader\n",
    "import pandas as pd\n",
    "import matplotlib.pyplot as plt"
   ]
  },
  {
   "cell_type": "code",
   "execution_count": 3,
   "metadata": {},
   "outputs": [],
   "source": [
    "DATA_LOADER = DataLoader()"
   ]
  },
  {
   "cell_type": "code",
   "execution_count": 4,
   "metadata": {},
   "outputs": [],
   "source": [
    "def check_if_float_field_is_integer(df: pd.DataFrame, field: str) -> bool:\n",
    "    calc = (df[field].astype(int) == df[field]).value_counts()\n",
    "    return False not in calc.keys()"
   ]
  },
  {
   "cell_type": "markdown",
   "metadata": {},
   "source": [
    "# Transactions"
   ]
  },
  {
   "cell_type": "code",
   "execution_count": 6,
   "metadata": {},
   "outputs": [],
   "source": [
    "transactions_df = DATA_LOADER.load_transactions_df()"
   ]
  },
  {
   "cell_type": "code",
   "execution_count": 7,
   "metadata": {},
   "outputs": [
    {
     "name": "stdout",
     "output_type": "stream",
     "text": [
      "Rows qty: 20712225\n"
     ]
    }
   ],
   "source": [
    "print(f'Rows qty: {len(transactions_df)}')"
   ]
  },
  {
   "cell_type": "code",
   "execution_count": 7,
   "metadata": {},
   "outputs": [
    {
     "data": {
      "text/plain": [
       "msno                              object\n",
       "payment_method_id                  int64\n",
       "payment_plan_days                  int64\n",
       "plan_list_price                    int64\n",
       "actual_amount_paid                 int64\n",
       "is_auto_renew                       bool\n",
       "transaction_date          datetime64[ns]\n",
       "membership_expire_date    datetime64[ns]\n",
       "is_cancel                           bool\n",
       "dtype: object"
      ]
     },
     "execution_count": 7,
     "metadata": {},
     "output_type": "execute_result"
    }
   ],
   "source": [
    "transactions_df.dtypes"
   ]
  },
  {
   "cell_type": "code",
   "execution_count": null,
   "metadata": {},
   "outputs": [],
   "source": [
    "# # Checking if safra is inside transaction_date column\n",
    "# # If yes, we can remove this field\n",
    "# for index, row in transactions_df.iterrows():\n",
    "#     if str(row['safra']) not in str(row['transaction_date']):\n",
    "#         print(f'Found! {row}')"
   ]
  },
  {
   "cell_type": "code",
   "execution_count": 8,
   "metadata": {},
   "outputs": [
    {
     "data": {
      "text/html": [
       "<div>\n",
       "<style scoped>\n",
       "    .dataframe tbody tr th:only-of-type {\n",
       "        vertical-align: middle;\n",
       "    }\n",
       "\n",
       "    .dataframe tbody tr th {\n",
       "        vertical-align: top;\n",
       "    }\n",
       "\n",
       "    .dataframe thead th {\n",
       "        text-align: right;\n",
       "    }\n",
       "</style>\n",
       "<table border=\"1\" class=\"dataframe\">\n",
       "  <thead>\n",
       "    <tr style=\"text-align: right;\">\n",
       "      <th></th>\n",
       "      <th>msno</th>\n",
       "      <th>payment_method_id</th>\n",
       "      <th>payment_plan_days</th>\n",
       "      <th>plan_list_price</th>\n",
       "      <th>actual_amount_paid</th>\n",
       "      <th>is_auto_renew</th>\n",
       "      <th>transaction_date</th>\n",
       "      <th>membership_expire_date</th>\n",
       "      <th>is_cancel</th>\n",
       "    </tr>\n",
       "  </thead>\n",
       "  <tbody>\n",
       "    <tr>\n",
       "      <th>0</th>\n",
       "      <td>+++IZseRRiQS9aaSkH6cMYU6bGDcxUieAi/tH67sC5s=</td>\n",
       "      <td>38</td>\n",
       "      <td>410</td>\n",
       "      <td>1788</td>\n",
       "      <td>1788</td>\n",
       "      <td>False</td>\n",
       "      <td>2015-11-21</td>\n",
       "      <td>2017-01-04</td>\n",
       "      <td>False</td>\n",
       "    </tr>\n",
       "    <tr>\n",
       "      <th>1</th>\n",
       "      <td>+++snpr7pmobhLKUgSHTv/mpkqgBT0tQJ0zQj6qKrqc=</td>\n",
       "      <td>41</td>\n",
       "      <td>30</td>\n",
       "      <td>149</td>\n",
       "      <td>149</td>\n",
       "      <td>True</td>\n",
       "      <td>2015-05-26</td>\n",
       "      <td>2015-06-26</td>\n",
       "      <td>False</td>\n",
       "    </tr>\n",
       "    <tr>\n",
       "      <th>2</th>\n",
       "      <td>+++snpr7pmobhLKUgSHTv/mpkqgBT0tQJ0zQj6qKrqc=</td>\n",
       "      <td>41</td>\n",
       "      <td>30</td>\n",
       "      <td>149</td>\n",
       "      <td>149</td>\n",
       "      <td>True</td>\n",
       "      <td>2015-09-26</td>\n",
       "      <td>2015-10-26</td>\n",
       "      <td>False</td>\n",
       "    </tr>\n",
       "    <tr>\n",
       "      <th>3</th>\n",
       "      <td>++/9R3sX37CjxbY/AaGvbwr3QkwElKBCtSvVzhCBDOk=</td>\n",
       "      <td>41</td>\n",
       "      <td>30</td>\n",
       "      <td>149</td>\n",
       "      <td>149</td>\n",
       "      <td>True</td>\n",
       "      <td>2016-06-15</td>\n",
       "      <td>2016-07-15</td>\n",
       "      <td>False</td>\n",
       "    </tr>\n",
       "    <tr>\n",
       "      <th>4</th>\n",
       "      <td>++/Gw1B9K+XOlB3hLTloeUK2QlCa2m+BJ8TrzGf7djI=</td>\n",
       "      <td>40</td>\n",
       "      <td>31</td>\n",
       "      <td>149</td>\n",
       "      <td>149</td>\n",
       "      <td>True</td>\n",
       "      <td>2015-01-13</td>\n",
       "      <td>2015-02-16</td>\n",
       "      <td>False</td>\n",
       "    </tr>\n",
       "  </tbody>\n",
       "</table>\n",
       "</div>"
      ],
      "text/plain": [
       "                                           msno  payment_method_id  \\\n",
       "0  +++IZseRRiQS9aaSkH6cMYU6bGDcxUieAi/tH67sC5s=                 38   \n",
       "1  +++snpr7pmobhLKUgSHTv/mpkqgBT0tQJ0zQj6qKrqc=                 41   \n",
       "2  +++snpr7pmobhLKUgSHTv/mpkqgBT0tQJ0zQj6qKrqc=                 41   \n",
       "3  ++/9R3sX37CjxbY/AaGvbwr3QkwElKBCtSvVzhCBDOk=                 41   \n",
       "4  ++/Gw1B9K+XOlB3hLTloeUK2QlCa2m+BJ8TrzGf7djI=                 40   \n",
       "\n",
       "   payment_plan_days  plan_list_price  actual_amount_paid  is_auto_renew  \\\n",
       "0                410             1788                1788          False   \n",
       "1                 30              149                 149           True   \n",
       "2                 30              149                 149           True   \n",
       "3                 30              149                 149           True   \n",
       "4                 31              149                 149           True   \n",
       "\n",
       "  transaction_date membership_expire_date  is_cancel  \n",
       "0       2015-11-21             2017-01-04      False  \n",
       "1       2015-05-26             2015-06-26      False  \n",
       "2       2015-09-26             2015-10-26      False  \n",
       "3       2016-06-15             2016-07-15      False  \n",
       "4       2015-01-13             2015-02-16      False  "
      ]
     },
     "execution_count": 8,
     "metadata": {},
     "output_type": "execute_result"
    }
   ],
   "source": [
    "transactions_df.head()"
   ]
  },
  {
   "cell_type": "code",
   "execution_count": 18,
   "metadata": {},
   "outputs": [
    {
     "data": {
      "text/plain": [
       "msno                      0\n",
       "payment_method_id         0\n",
       "payment_plan_days         0\n",
       "plan_list_price           0\n",
       "actual_amount_paid        0\n",
       "is_auto_renew             0\n",
       "transaction_date          0\n",
       "membership_expire_date    0\n",
       "is_cancel                 0\n",
       "dtype: int64"
      ]
     },
     "execution_count": 18,
     "metadata": {},
     "output_type": "execute_result"
    }
   ],
   "source": [
    "transactions_df.isna().sum()"
   ]
  },
  {
   "cell_type": "code",
   "execution_count": 17,
   "metadata": {},
   "outputs": [
    {
     "data": {
      "text/html": [
       "<div>\n",
       "<style scoped>\n",
       "    .dataframe tbody tr th:only-of-type {\n",
       "        vertical-align: middle;\n",
       "    }\n",
       "\n",
       "    .dataframe tbody tr th {\n",
       "        vertical-align: top;\n",
       "    }\n",
       "\n",
       "    .dataframe thead th {\n",
       "        text-align: right;\n",
       "    }\n",
       "</style>\n",
       "<table border=\"1\" class=\"dataframe\">\n",
       "  <thead>\n",
       "    <tr style=\"text-align: right;\">\n",
       "      <th></th>\n",
       "      <th>payment_method_id</th>\n",
       "      <th>payment_plan_days</th>\n",
       "      <th>plan_list_price</th>\n",
       "      <th>actual_amount_paid</th>\n",
       "      <th>transaction_date</th>\n",
       "      <th>membership_expire_date</th>\n",
       "    </tr>\n",
       "  </thead>\n",
       "  <tbody>\n",
       "    <tr>\n",
       "      <th>count</th>\n",
       "      <td>2.071222e+07</td>\n",
       "      <td>2.071222e+07</td>\n",
       "      <td>2.071222e+07</td>\n",
       "      <td>2.071222e+07</td>\n",
       "      <td>20712225</td>\n",
       "      <td>20712225</td>\n",
       "    </tr>\n",
       "    <tr>\n",
       "      <th>mean</th>\n",
       "      <td>3.892650e+01</td>\n",
       "      <td>3.142900e+01</td>\n",
       "      <td>1.402409e+02</td>\n",
       "      <td>1.428347e+02</td>\n",
       "      <td>2016-03-12 01:00:59.224674560</td>\n",
       "      <td>2016-04-15 15:00:59.945293568</td>\n",
       "    </tr>\n",
       "    <tr>\n",
       "      <th>min</th>\n",
       "      <td>1.000000e+00</td>\n",
       "      <td>0.000000e+00</td>\n",
       "      <td>0.000000e+00</td>\n",
       "      <td>0.000000e+00</td>\n",
       "      <td>2015-01-01 00:00:00</td>\n",
       "      <td>1970-01-01 00:00:00</td>\n",
       "    </tr>\n",
       "    <tr>\n",
       "      <th>25%</th>\n",
       "      <td>3.800000e+01</td>\n",
       "      <td>3.000000e+01</td>\n",
       "      <td>9.900000e+01</td>\n",
       "      <td>9.900000e+01</td>\n",
       "      <td>2015-09-09 00:00:00</td>\n",
       "      <td>2015-10-19 00:00:00</td>\n",
       "    </tr>\n",
       "    <tr>\n",
       "      <th>50%</th>\n",
       "      <td>4.100000e+01</td>\n",
       "      <td>3.000000e+01</td>\n",
       "      <td>1.490000e+02</td>\n",
       "      <td>1.490000e+02</td>\n",
       "      <td>2016-03-26 00:00:00</td>\n",
       "      <td>2016-05-03 00:00:00</td>\n",
       "    </tr>\n",
       "    <tr>\n",
       "      <th>75%</th>\n",
       "      <td>4.100000e+01</td>\n",
       "      <td>3.000000e+01</td>\n",
       "      <td>1.490000e+02</td>\n",
       "      <td>1.490000e+02</td>\n",
       "      <td>2016-09-28 00:00:00</td>\n",
       "      <td>2016-10-31 00:00:00</td>\n",
       "    </tr>\n",
       "    <tr>\n",
       "      <th>max</th>\n",
       "      <td>4.100000e+01</td>\n",
       "      <td>4.500000e+02</td>\n",
       "      <td>2.000000e+03</td>\n",
       "      <td>2.000000e+03</td>\n",
       "      <td>2017-02-28 00:00:00</td>\n",
       "      <td>2017-03-31 00:00:00</td>\n",
       "    </tr>\n",
       "    <tr>\n",
       "      <th>std</th>\n",
       "      <td>3.506286e+00</td>\n",
       "      <td>3.055983e+01</td>\n",
       "      <td>1.322768e+02</td>\n",
       "      <td>1.336094e+02</td>\n",
       "      <td>NaN</td>\n",
       "      <td>NaN</td>\n",
       "    </tr>\n",
       "  </tbody>\n",
       "</table>\n",
       "</div>"
      ],
      "text/plain": [
       "       payment_method_id  payment_plan_days  plan_list_price  \\\n",
       "count       2.071222e+07       2.071222e+07     2.071222e+07   \n",
       "mean        3.892650e+01       3.142900e+01     1.402409e+02   \n",
       "min         1.000000e+00       0.000000e+00     0.000000e+00   \n",
       "25%         3.800000e+01       3.000000e+01     9.900000e+01   \n",
       "50%         4.100000e+01       3.000000e+01     1.490000e+02   \n",
       "75%         4.100000e+01       3.000000e+01     1.490000e+02   \n",
       "max         4.100000e+01       4.500000e+02     2.000000e+03   \n",
       "std         3.506286e+00       3.055983e+01     1.322768e+02   \n",
       "\n",
       "       actual_amount_paid               transaction_date  \\\n",
       "count        2.071222e+07                       20712225   \n",
       "mean         1.428347e+02  2016-03-12 01:00:59.224674560   \n",
       "min          0.000000e+00            2015-01-01 00:00:00   \n",
       "25%          9.900000e+01            2015-09-09 00:00:00   \n",
       "50%          1.490000e+02            2016-03-26 00:00:00   \n",
       "75%          1.490000e+02            2016-09-28 00:00:00   \n",
       "max          2.000000e+03            2017-02-28 00:00:00   \n",
       "std          1.336094e+02                            NaN   \n",
       "\n",
       "              membership_expire_date  \n",
       "count                       20712225  \n",
       "mean   2016-04-15 15:00:59.945293568  \n",
       "min              1970-01-01 00:00:00  \n",
       "25%              2015-10-19 00:00:00  \n",
       "50%              2016-05-03 00:00:00  \n",
       "75%              2016-10-31 00:00:00  \n",
       "max              2017-03-31 00:00:00  \n",
       "std                              NaN  "
      ]
     },
     "execution_count": 17,
     "metadata": {},
     "output_type": "execute_result"
    }
   ],
   "source": [
    "transactions_df.describe()"
   ]
  },
  {
   "cell_type": "code",
   "execution_count": 12,
   "metadata": {},
   "outputs": [
    {
     "data": {
      "text/plain": [
       "<Axes: xlabel='transaction_date'>"
      ]
     },
     "execution_count": 12,
     "metadata": {},
     "output_type": "execute_result"
    },
    {
     "data": {
      "image/png": "[encoded data removed]",
      "text/plain": [
       "<Figure size 640x480 with 1 Axes>"
      ]
     },
     "metadata": {},
     "output_type": "display_data"
    }
   ],
   "source": [
    "transactions_df.transaction_date.dt.year.value_counts().plot.bar()"
   ]
  },
  {
   "cell_type": "code",
   "execution_count": 11,
   "metadata": {},
   "outputs": [
    {
     "data": {
      "text/plain": [
       "<Axes: xlabel='is_auto_renew'>"
      ]
     },
     "execution_count": 11,
     "metadata": {},
     "output_type": "execute_result"
    },
    {
     "data": {
      "image/png": "[encoded data removed]",
      "text/plain": [
       "<Figure size 640x480 with 1 Axes>"
      ]
     },
     "metadata": {},
     "output_type": "display_data"
    }
   ],
   "source": [
    "transactions_df.is_auto_renew.value_counts().plot.bar()"
   ]
  },
  {
   "cell_type": "code",
   "execution_count": 14,
   "metadata": {},
   "outputs": [
    {
     "data": {
      "text/plain": [
       "(is_cancel\n",
       " False    20031271\n",
       " True       680954\n",
       " Name: count, dtype: int64,\n",
       " <Axes: xlabel='is_cancel'>)"
      ]
     },
     "execution_count": 14,
     "metadata": {},
     "output_type": "execute_result"
    },
    {
     "data": {
      "image/png": "[encoded data removed]",
      "text/plain": [
       "<Figure size 640x480 with 1 Axes>"
      ]
     },
     "metadata": {},
     "output_type": "display_data"
    }
   ],
   "source": [
    "transactions_df.is_cancel.value_counts(), transactions_df.is_cancel.value_counts().plot.bar()"
   ]
  },
  {
   "cell_type": "code",
   "execution_count": 16,
   "metadata": {},
   "outputs": [
    {
     "data": {
      "text/plain": [
       "membership_expire_date\n",
       "2016    10662667\n",
       "2015     7038483\n",
       "2017     3003853\n",
       "2014        3553\n",
       "2013        2146\n",
       "1970        1499\n",
       "2012          12\n",
       "2010           3\n",
       "2007           3\n",
       "1999           2\n",
       "2009           2\n",
       "2005           1\n",
       "2008           1\n",
       "Name: count, dtype: int64"
      ]
     },
     "execution_count": 16,
     "metadata": {},
     "output_type": "execute_result"
    }
   ],
   "source": [
    "transactions_df.membership_expire_date.dt.year.value_counts()"
   ]
  },
  {
   "cell_type": "code",
   "execution_count": 21,
   "metadata": {},
   "outputs": [
    {
     "data": {
      "text/plain": [
       "40"
      ]
     },
     "execution_count": 21,
     "metadata": {},
     "output_type": "execute_result"
    }
   ],
   "source": [
    "len(transactions_df.payment_method_id.unique())"
   ]
  },
  {
   "cell_type": "code",
   "execution_count": 27,
   "metadata": {},
   "outputs": [
    {
     "data": {
      "text/plain": [
       "51"
      ]
     },
     "execution_count": 27,
     "metadata": {},
     "output_type": "execute_result"
    }
   ],
   "source": [
    "len(transactions_df.plan_list_price.unique())"
   ]
  },
  {
   "cell_type": "code",
   "execution_count": 32,
   "metadata": {},
   "outputs": [
    {
     "data": {
      "text/plain": [
       "51"
      ]
     },
     "execution_count": 32,
     "metadata": {},
     "output_type": "execute_result"
    }
   ],
   "source": [
    "len(transactions_df.plan_list_price.value_counts())"
   ]
  },
  {
   "cell_type": "code",
   "execution_count": 37,
   "metadata": {},
   "outputs": [
    {
     "data": {
      "text/plain": [
       "array([410,  30,  31,   7,   0, 395, 180,  45, 195,  60,  10, 120, 100,\n",
       "       360, 200,  90,  14,   1,  99, 110,  35, 400,  21, 450, 240,  66,\n",
       "        70, 365,  80, 270,   3,  15, 230,   2,  95, 425, 415])"
      ]
     },
     "execution_count": 37,
     "metadata": {},
     "output_type": "execute_result"
    }
   ],
   "source": [
    "transactions_df.payment_plan_days.unique()"
   ]
  },
  {
   "cell_type": "code",
   "execution_count": 41,
   "metadata": {},
   "outputs": [
    {
     "data": {
      "text/plain": [
       "(actual_amount_paid\n",
       " 149     11998045\n",
       " 99       4776059\n",
       " 129      1124259\n",
       " 0        1047843\n",
       " 180       656705\n",
       " 150       373391\n",
       " 119       322854\n",
       " 894       111410\n",
       " 1788       82809\n",
       " 100        76237\n",
       " 536        44129\n",
       " 480        22927\n",
       " 1599       11991\n",
       " 477        10752\n",
       " 799         6422\n",
       " 300         5496\n",
       " 1200        5313\n",
       " 298         5167\n",
       " 930         5063\n",
       " 134         4625\n",
       " 120         4462\n",
       " 35          4352\n",
       " 447         3831\n",
       " 450         1379\n",
       " 500         1117\n",
       " 699          887\n",
       " 50           751\n",
       " 1000         741\n",
       " 124          596\n",
       " 131          571\n",
       " 350          568\n",
       " 400          316\n",
       " 105          259\n",
       " 70           195\n",
       " 143          129\n",
       " 2000         119\n",
       " 1            111\n",
       " 1150          95\n",
       " 596           64\n",
       " 10            54\n",
       " 15            35\n",
       " 127           29\n",
       " 265           20\n",
       " 1520          13\n",
       " 800           11\n",
       " 41             4\n",
       " 600            3\n",
       " 30             3\n",
       " 210            3\n",
       " 760            2\n",
       " 1825           2\n",
       " 849            1\n",
       " 45             1\n",
       " 1800           1\n",
       " 890            1\n",
       " 1799           1\n",
       " 1802           1\n",
       " Name: count, dtype: int64,\n",
       " <Axes: xlabel='actual_amount_paid'>)"
      ]
     },
     "execution_count": 41,
     "metadata": {},
     "output_type": "execute_result"
    },
    {
     "data": {
      "image/png": "[encoded data removed]",
      "text/plain": [
       "<Figure size 640x480 with 1 Axes>"
      ]
     },
     "metadata": {},
     "output_type": "display_data"
    }
   ],
   "source": [
    "transactions_df.actual_amount_paid.value_counts(), transactions_df.actual_amount_paid.value_counts()[:20].plot.bar()"
   ]
  },
  {
   "cell_type": "markdown",
   "metadata": {},
   "source": [
    "# Members"
   ]
  },
  {
   "cell_type": "code",
   "execution_count": 4,
   "metadata": {},
   "outputs": [],
   "source": [
    "members_df = DATA_LOADER.load_members_df()"
   ]
  },
  {
   "cell_type": "code",
   "execution_count": 4,
   "metadata": {},
   "outputs": [
    {
     "name": "stdout",
     "output_type": "stream",
     "text": [
      "Rows qty: 63867246\n"
     ]
    }
   ],
   "source": [
    "print(f'Rows qty: {len(members_df)}')"
   ]
  },
  {
   "cell_type": "code",
   "execution_count": 5,
   "metadata": {},
   "outputs": [
    {
     "data": {
      "text/plain": [
       "msno                              object\n",
       "safra                             object\n",
       "registration_init_time    datetime64[ns]\n",
       "city                            category\n",
       "bd                                 int64\n",
       "gender                          category\n",
       "registered_via                  category\n",
       "is_ativo                            bool\n",
       "dtype: object"
      ]
     },
     "execution_count": 5,
     "metadata": {},
     "output_type": "execute_result"
    }
   ],
   "source": [
    "members_df.dtypes"
   ]
  },
  {
   "cell_type": "code",
   "execution_count": 6,
   "metadata": {},
   "outputs": [
    {
     "data": {
      "text/html": [
       "<div>\n",
       "<style scoped>\n",
       "    .dataframe tbody tr th:only-of-type {\n",
       "        vertical-align: middle;\n",
       "    }\n",
       "\n",
       "    .dataframe tbody tr th {\n",
       "        vertical-align: top;\n",
       "    }\n",
       "\n",
       "    .dataframe thead th {\n",
       "        text-align: right;\n",
       "    }\n",
       "</style>\n",
       "<table border=\"1\" class=\"dataframe\">\n",
       "  <thead>\n",
       "    <tr style=\"text-align: right;\">\n",
       "      <th></th>\n",
       "      <th>msno</th>\n",
       "      <th>safra</th>\n",
       "      <th>registration_init_time</th>\n",
       "      <th>city</th>\n",
       "      <th>bd</th>\n",
       "      <th>gender</th>\n",
       "      <th>registered_via</th>\n",
       "      <th>is_ativo</th>\n",
       "    </tr>\n",
       "  </thead>\n",
       "  <tbody>\n",
       "    <tr>\n",
       "      <th>0</th>\n",
       "      <td>+++snpr7pmobhLKUgSHTv/mpkqgBT0tQJ0zQj6qKrqc=</td>\n",
       "      <td>201612</td>\n",
       "      <td>2014-09-27</td>\n",
       "      <td>1</td>\n",
       "      <td>0</td>\n",
       "      <td>NaN</td>\n",
       "      <td>7</td>\n",
       "      <td>True</td>\n",
       "    </tr>\n",
       "    <tr>\n",
       "      <th>1</th>\n",
       "      <td>++/AwGzubug3gT6J+0STBGMdWKxaM+UFZTI8Tcmq4To=</td>\n",
       "      <td>201607</td>\n",
       "      <td>2015-03-22</td>\n",
       "      <td>1</td>\n",
       "      <td>0</td>\n",
       "      <td>NaN</td>\n",
       "      <td>9</td>\n",
       "      <td>False</td>\n",
       "    </tr>\n",
       "    <tr>\n",
       "      <th>2</th>\n",
       "      <td>++/Gw1B9K+XOlB3hLTloeUK2QlCa2m+BJ8TrzGf7djI=</td>\n",
       "      <td>201601</td>\n",
       "      <td>2012-12-17</td>\n",
       "      <td>15</td>\n",
       "      <td>32</td>\n",
       "      <td>male</td>\n",
       "      <td>3</td>\n",
       "      <td>True</td>\n",
       "    </tr>\n",
       "    <tr>\n",
       "      <th>3</th>\n",
       "      <td>++02XbtviomSxcIBUHMOiJkjRxdicTXSfiVqLdsr5lo=</td>\n",
       "      <td>201603</td>\n",
       "      <td>2013-11-12</td>\n",
       "      <td>14</td>\n",
       "      <td>21</td>\n",
       "      <td>male</td>\n",
       "      <td>7</td>\n",
       "      <td>False</td>\n",
       "    </tr>\n",
       "    <tr>\n",
       "      <th>4</th>\n",
       "      <td>++0O0Bq04sB/9ZcOS+pajpYL2Hin9jCqnc/8bKzKFuE=</td>\n",
       "      <td>201610</td>\n",
       "      <td>2014-10-21</td>\n",
       "      <td>5</td>\n",
       "      <td>33</td>\n",
       "      <td>male</td>\n",
       "      <td>3</td>\n",
       "      <td>False</td>\n",
       "    </tr>\n",
       "  </tbody>\n",
       "</table>\n",
       "</div>"
      ],
      "text/plain": [
       "                                           msno   safra  \\\n",
       "0  +++snpr7pmobhLKUgSHTv/mpkqgBT0tQJ0zQj6qKrqc=  201612   \n",
       "1  ++/AwGzubug3gT6J+0STBGMdWKxaM+UFZTI8Tcmq4To=  201607   \n",
       "2  ++/Gw1B9K+XOlB3hLTloeUK2QlCa2m+BJ8TrzGf7djI=  201601   \n",
       "3  ++02XbtviomSxcIBUHMOiJkjRxdicTXSfiVqLdsr5lo=  201603   \n",
       "4  ++0O0Bq04sB/9ZcOS+pajpYL2Hin9jCqnc/8bKzKFuE=  201610   \n",
       "\n",
       "  registration_init_time city  bd gender registered_via  is_ativo  \n",
       "0             2014-09-27    1   0    NaN              7      True  \n",
       "1             2015-03-22    1   0    NaN              9     False  \n",
       "2             2012-12-17   15  32   male              3      True  \n",
       "3             2013-11-12   14  21   male              7     False  \n",
       "4             2014-10-21    5  33   male              3     False  "
      ]
     },
     "execution_count": 6,
     "metadata": {},
     "output_type": "execute_result"
    }
   ],
   "source": [
    "members_df.head()"
   ]
  },
  {
   "cell_type": "code",
   "execution_count": 12,
   "metadata": {},
   "outputs": [
    {
     "data": {
      "text/plain": [
       "msno                             0\n",
       "safra                            0\n",
       "registration_init_time           0\n",
       "city                             0\n",
       "bd                               0\n",
       "gender                    38210177\n",
       "registered_via                   0\n",
       "is_ativo                         0\n",
       "dtype: int64"
      ]
     },
     "execution_count": 12,
     "metadata": {},
     "output_type": "execute_result"
    }
   ],
   "source": [
    "members_df.isna().sum()"
   ]
  },
  {
   "cell_type": "code",
   "execution_count": 7,
   "metadata": {},
   "outputs": [
    {
     "data": {
      "text/html": [
       "<div>\n",
       "<style scoped>\n",
       "    .dataframe tbody tr th:only-of-type {\n",
       "        vertical-align: middle;\n",
       "    }\n",
       "\n",
       "    .dataframe tbody tr th {\n",
       "        vertical-align: top;\n",
       "    }\n",
       "\n",
       "    .dataframe thead th {\n",
       "        text-align: right;\n",
       "    }\n",
       "</style>\n",
       "<table border=\"1\" class=\"dataframe\">\n",
       "  <thead>\n",
       "    <tr style=\"text-align: right;\">\n",
       "      <th></th>\n",
       "      <th>registration_init_time</th>\n",
       "      <th>bd</th>\n",
       "    </tr>\n",
       "  </thead>\n",
       "  <tbody>\n",
       "    <tr>\n",
       "      <th>count</th>\n",
       "      <td>63867246</td>\n",
       "      <td>6.386725e+07</td>\n",
       "    </tr>\n",
       "    <tr>\n",
       "      <th>mean</th>\n",
       "      <td>2014-06-10 23:17:42.231807232</td>\n",
       "      <td>1.143016e+01</td>\n",
       "    </tr>\n",
       "    <tr>\n",
       "      <th>min</th>\n",
       "      <td>2004-03-26 00:00:00</td>\n",
       "      <td>-7.168000e+03</td>\n",
       "    </tr>\n",
       "    <tr>\n",
       "      <th>25%</th>\n",
       "      <td>2013-10-20 00:00:00</td>\n",
       "      <td>0.000000e+00</td>\n",
       "    </tr>\n",
       "    <tr>\n",
       "      <th>50%</th>\n",
       "      <td>2015-03-15 00:00:00</td>\n",
       "      <td>0.000000e+00</td>\n",
       "    </tr>\n",
       "    <tr>\n",
       "      <th>75%</th>\n",
       "      <td>2015-12-25 00:00:00</td>\n",
       "      <td>2.400000e+01</td>\n",
       "    </tr>\n",
       "    <tr>\n",
       "      <th>max</th>\n",
       "      <td>2016-12-31 00:00:00</td>\n",
       "      <td>2.016000e+03</td>\n",
       "    </tr>\n",
       "    <tr>\n",
       "      <th>std</th>\n",
       "      <td>NaN</td>\n",
       "      <td>1.904132e+01</td>\n",
       "    </tr>\n",
       "  </tbody>\n",
       "</table>\n",
       "</div>"
      ],
      "text/plain": [
       "              registration_init_time            bd\n",
       "count                       63867246  6.386725e+07\n",
       "mean   2014-06-10 23:17:42.231807232  1.143016e+01\n",
       "min              2004-03-26 00:00:00 -7.168000e+03\n",
       "25%              2013-10-20 00:00:00  0.000000e+00\n",
       "50%              2015-03-15 00:00:00  0.000000e+00\n",
       "75%              2015-12-25 00:00:00  2.400000e+01\n",
       "max              2016-12-31 00:00:00  2.016000e+03\n",
       "std                              NaN  1.904132e+01"
      ]
     },
     "execution_count": 7,
     "metadata": {},
     "output_type": "execute_result"
    }
   ],
   "source": [
    "members_df.describe()"
   ]
  },
  {
   "cell_type": "code",
   "execution_count": 8,
   "metadata": {},
   "outputs": [
    {
     "data": {
      "text/plain": [
       "6287789"
      ]
     },
     "execution_count": 8,
     "metadata": {},
     "output_type": "execute_result"
    }
   ],
   "source": [
    "# Less values than the total rows\n",
    "len(members_df.msno.unique())"
   ]
  },
  {
   "cell_type": "code",
   "execution_count": 10,
   "metadata": {},
   "outputs": [
    {
     "data": {
      "text/plain": [
       "<Axes: xlabel='registration_init_time'>"
      ]
     },
     "execution_count": 10,
     "metadata": {},
     "output_type": "execute_result"
    },
    {
     "data": {
      "image/png": "[encoded data removed]",
      "text/plain": [
       "<Figure size 640x480 with 1 Axes>"
      ]
     },
     "metadata": {},
     "output_type": "display_data"
    }
   ],
   "source": [
    "members_df.registration_init_time.dt.year.value_counts().plot.bar()"
   ]
  },
  {
   "cell_type": "code",
   "execution_count": 11,
   "metadata": {},
   "outputs": [
    {
     "data": {
      "text/plain": [
       "<Axes: xlabel='registration_init_time'>"
      ]
     },
     "execution_count": 11,
     "metadata": {},
     "output_type": "execute_result"
    },
    {
     "data": {
      "image/png": "[encoded data removed]",
      "text/plain": [
       "<Figure size 640x480 with 1 Axes>"
      ]
     },
     "metadata": {},
     "output_type": "display_data"
    }
   ],
   "source": [
    "members_df.registration_init_time.dt.month.value_counts().plot.bar()"
   ]
  },
  {
   "cell_type": "code",
   "execution_count": 15,
   "metadata": {},
   "outputs": [
    {
     "data": {
      "text/plain": [
       "<Axes: xlabel='city'>"
      ]
     },
     "execution_count": 15,
     "metadata": {},
     "output_type": "execute_result"
    },
    {
     "data": {
      "image/png": "[encoded data removed]",
      "text/plain": [
       "<Figure size 640x480 with 1 Axes>"
      ]
     },
     "metadata": {},
     "output_type": "display_data"
    }
   ],
   "source": [
    "members_df.city.value_counts().plot.bar()"
   ]
  },
  {
   "cell_type": "code",
   "execution_count": 19,
   "metadata": {},
   "outputs": [
    {
     "data": {
      "text/plain": [
       "bd\n",
       " 0       39509864\n",
       " 22       1220332\n",
       " 21       1196188\n",
       " 20       1183935\n",
       " 27       1136339\n",
       "           ...   \n",
       "-497            2\n",
       "-507            1\n",
       " 1421           1\n",
       "-501            1\n",
       "-527            1\n",
       "Name: count, Length: 385, dtype: int64"
      ]
     },
     "execution_count": 19,
     "metadata": {},
     "output_type": "execute_result"
    }
   ],
   "source": [
    "members_df.bd.value_counts()"
   ]
  },
  {
   "cell_type": "code",
   "execution_count": 23,
   "metadata": {},
   "outputs": [
    {
     "data": {
      "text/plain": [
       "gender\n",
       "male      13075425\n",
       "female    12581644\n",
       "Name: count, dtype: int64"
      ]
     },
     "execution_count": 23,
     "metadata": {},
     "output_type": "execute_result"
    }
   ],
   "source": [
    "members_df.gender.value_counts()"
   ]
  },
  {
   "cell_type": "code",
   "execution_count": 24,
   "metadata": {},
   "outputs": [
    {
     "data": {
      "text/plain": [
       "np.int64(38210177)"
      ]
     },
     "execution_count": 24,
     "metadata": {},
     "output_type": "execute_result"
    }
   ],
   "source": [
    "members_df.gender.isna().sum()"
   ]
  },
  {
   "cell_type": "code",
   "execution_count": 25,
   "metadata": {},
   "outputs": [
    {
     "data": {
      "text/plain": [
       "registered_via\n",
       "4     19648219\n",
       "3     18640987\n",
       "9     16776651\n",
       "7      8407395\n",
       "11      269614\n",
       "8        47588\n",
       "5        18715\n",
       "2        16847\n",
       "16       10564\n",
       "13        7546\n",
       "14        7111\n",
       "17        6630\n",
       "19        5629\n",
       "6         3380\n",
       "1          254\n",
       "10         104\n",
       "-1          12\n",
       "Name: count, dtype: int64"
      ]
     },
     "execution_count": 25,
     "metadata": {},
     "output_type": "execute_result"
    }
   ],
   "source": [
    "members_df.registered_via.value_counts()"
   ]
  },
  {
   "cell_type": "code",
   "execution_count": 26,
   "metadata": {},
   "outputs": [
    {
     "data": {
      "text/plain": [
       "is_ativo\n",
       "False    52624381\n",
       "True     11242865\n",
       "Name: count, dtype: int64"
      ]
     },
     "execution_count": 26,
     "metadata": {},
     "output_type": "execute_result"
    }
   ],
   "source": [
    "members_df.is_ativo.value_counts()"
   ]
  },
  {
   "cell_type": "code",
   "execution_count": 27,
   "metadata": {},
   "outputs": [
    {
     "data": {
      "text/plain": [
       "<Axes: xlabel='is_ativo'>"
      ]
     },
     "execution_count": 27,
     "metadata": {},
     "output_type": "execute_result"
    },
    {
     "data": {
      "image/png": "[encoded data removed]",
      "text/plain": [
       "<Figure size 640x480 with 1 Axes>"
      ]
     },
     "metadata": {},
     "output_type": "display_data"
    }
   ],
   "source": [
    "members_df.is_ativo.value_counts().plot.bar()"
   ]
  },
  {
   "cell_type": "code",
   "execution_count": 28,
   "metadata": {},
   "outputs": [
    {
     "data": {
      "text/plain": [
       "count     63867246\n",
       "unique          12\n",
       "top         201612\n",
       "freq       6287789\n",
       "Name: safra, dtype: object"
      ]
     },
     "execution_count": 28,
     "metadata": {},
     "output_type": "execute_result"
    }
   ],
   "source": [
    "members_df.safra.describe()"
   ]
  },
  {
   "cell_type": "markdown",
   "metadata": {},
   "source": [
    "# User Logs"
   ]
  },
  {
   "cell_type": "code",
   "execution_count": 4,
   "metadata": {},
   "outputs": [],
   "source": [
    "user_logs_df = DATA_LOADER.load_user_logs_df()"
   ]
  },
  {
   "cell_type": "code",
   "execution_count": 14,
   "metadata": {},
   "outputs": [
    {
     "name": "stdout",
     "output_type": "stream",
     "text": [
      "Rows qty: 26758971\n"
     ]
    }
   ],
   "source": [
    "print(f'Rows qty: {len(user_logs_df)}')"
   ]
  },
  {
   "cell_type": "code",
   "execution_count": 15,
   "metadata": {},
   "outputs": [
    {
     "data": {
      "text/plain": [
       "msno          object\n",
       "safra          int32\n",
       "num_25         int64\n",
       "num_50         int64\n",
       "num_75         int64\n",
       "num_985        int64\n",
       "num_100        int64\n",
       "num_unq        int64\n",
       "total_secs     int64\n",
       "dtype: object"
      ]
     },
     "execution_count": 15,
     "metadata": {},
     "output_type": "execute_result"
    }
   ],
   "source": [
    "user_logs_df.dtypes"
   ]
  },
  {
   "cell_type": "code",
   "execution_count": 16,
   "metadata": {},
   "outputs": [
    {
     "data": {
      "text/html": [
       "<div>\n",
       "<style scoped>\n",
       "    .dataframe tbody tr th:only-of-type {\n",
       "        vertical-align: middle;\n",
       "    }\n",
       "\n",
       "    .dataframe tbody tr th {\n",
       "        vertical-align: top;\n",
       "    }\n",
       "\n",
       "    .dataframe thead th {\n",
       "        text-align: right;\n",
       "    }\n",
       "</style>\n",
       "<table border=\"1\" class=\"dataframe\">\n",
       "  <thead>\n",
       "    <tr style=\"text-align: right;\">\n",
       "      <th></th>\n",
       "      <th>msno</th>\n",
       "      <th>safra</th>\n",
       "      <th>num_25</th>\n",
       "      <th>num_50</th>\n",
       "      <th>num_75</th>\n",
       "      <th>num_985</th>\n",
       "      <th>num_100</th>\n",
       "      <th>num_unq</th>\n",
       "      <th>total_secs</th>\n",
       "    </tr>\n",
       "  </thead>\n",
       "  <tbody>\n",
       "    <tr>\n",
       "      <th>0</th>\n",
       "      <td>SwlrSivYHoKF9V5wm1YYYAnjHpd9y3OPjI9rDUhGJ3k=</td>\n",
       "      <td>201701</td>\n",
       "      <td>121</td>\n",
       "      <td>28</td>\n",
       "      <td>14</td>\n",
       "      <td>29</td>\n",
       "      <td>704</td>\n",
       "      <td>827</td>\n",
       "      <td>184606</td>\n",
       "    </tr>\n",
       "    <tr>\n",
       "      <th>1</th>\n",
       "      <td>rE5wSmHEF1Dhu55zhkiGB1HvotdlSHcIMGXv6VcqO2A=</td>\n",
       "      <td>201605</td>\n",
       "      <td>26</td>\n",
       "      <td>2</td>\n",
       "      <td>5</td>\n",
       "      <td>6</td>\n",
       "      <td>462</td>\n",
       "      <td>256</td>\n",
       "      <td>119439</td>\n",
       "    </tr>\n",
       "    <tr>\n",
       "      <th>2</th>\n",
       "      <td>hx+cyaQ/Jcdr/Z5foa/Cn0PXUzC/F7QO/NQvWQS1Qtc=</td>\n",
       "      <td>201611</td>\n",
       "      <td>161</td>\n",
       "      <td>71</td>\n",
       "      <td>49</td>\n",
       "      <td>34</td>\n",
       "      <td>668</td>\n",
       "      <td>891</td>\n",
       "      <td>204791</td>\n",
       "    </tr>\n",
       "    <tr>\n",
       "      <th>3</th>\n",
       "      <td>53QW6B70J23X2UCvxaaUppjyE0b6X9nzP79W4huZv+Q=</td>\n",
       "      <td>201502</td>\n",
       "      <td>37</td>\n",
       "      <td>9</td>\n",
       "      <td>3</td>\n",
       "      <td>9</td>\n",
       "      <td>408</td>\n",
       "      <td>447</td>\n",
       "      <td>101186</td>\n",
       "    </tr>\n",
       "    <tr>\n",
       "      <th>4</th>\n",
       "      <td>/0S1N/oRyxGLZlzxnW5rOjfo0ZAls9EH23ahuDNuqz8=</td>\n",
       "      <td>201506</td>\n",
       "      <td>205</td>\n",
       "      <td>49</td>\n",
       "      <td>23</td>\n",
       "      <td>21</td>\n",
       "      <td>225</td>\n",
       "      <td>489</td>\n",
       "      <td>69957</td>\n",
       "    </tr>\n",
       "    <tr>\n",
       "      <th>5</th>\n",
       "      <td>qB/zteXKaOk3hzFCoIUD6wrTp57hnreDX4Vvon25MfM=</td>\n",
       "      <td>201509</td>\n",
       "      <td>52</td>\n",
       "      <td>10</td>\n",
       "      <td>10</td>\n",
       "      <td>20</td>\n",
       "      <td>308</td>\n",
       "      <td>264</td>\n",
       "      <td>81703</td>\n",
       "    </tr>\n",
       "    <tr>\n",
       "      <th>6</th>\n",
       "      <td>7btpXOqzA1ggOggSW81L05zDYyDjO7dXgmwZVzYmI2Q=</td>\n",
       "      <td>201610</td>\n",
       "      <td>159</td>\n",
       "      <td>53</td>\n",
       "      <td>30</td>\n",
       "      <td>43</td>\n",
       "      <td>1075</td>\n",
       "      <td>881</td>\n",
       "      <td>305353</td>\n",
       "    </tr>\n",
       "    <tr>\n",
       "      <th>7</th>\n",
       "      <td>kgEhriAqTydVKQ1xn+ZzKQzf4sQ1aod5zcEg5ksyWrE=</td>\n",
       "      <td>201609</td>\n",
       "      <td>88</td>\n",
       "      <td>13</td>\n",
       "      <td>14</td>\n",
       "      <td>13</td>\n",
       "      <td>588</td>\n",
       "      <td>325</td>\n",
       "      <td>159511</td>\n",
       "    </tr>\n",
       "    <tr>\n",
       "      <th>8</th>\n",
       "      <td>8uQ6M7OzdWsuzo0BRZ6siIPZfBoG43bRvlm+My36B6k=</td>\n",
       "      <td>201509</td>\n",
       "      <td>62</td>\n",
       "      <td>27</td>\n",
       "      <td>15</td>\n",
       "      <td>6</td>\n",
       "      <td>1389</td>\n",
       "      <td>1427</td>\n",
       "      <td>324691</td>\n",
       "    </tr>\n",
       "    <tr>\n",
       "      <th>9</th>\n",
       "      <td>T2gUhlBhFMoSFA9jFI/BkuyE/EPA6oneabYQiGBy9wU=</td>\n",
       "      <td>201702</td>\n",
       "      <td>36</td>\n",
       "      <td>23</td>\n",
       "      <td>5</td>\n",
       "      <td>9</td>\n",
       "      <td>216</td>\n",
       "      <td>241</td>\n",
       "      <td>56296</td>\n",
       "    </tr>\n",
       "  </tbody>\n",
       "</table>\n",
       "</div>"
      ],
      "text/plain": [
       "                                           msno   safra  num_25  num_50  \\\n",
       "0  SwlrSivYHoKF9V5wm1YYYAnjHpd9y3OPjI9rDUhGJ3k=  201701     121      28   \n",
       "1  rE5wSmHEF1Dhu55zhkiGB1HvotdlSHcIMGXv6VcqO2A=  201605      26       2   \n",
       "2  hx+cyaQ/Jcdr/Z5foa/Cn0PXUzC/F7QO/NQvWQS1Qtc=  201611     161      71   \n",
       "3  53QW6B70J23X2UCvxaaUppjyE0b6X9nzP79W4huZv+Q=  201502      37       9   \n",
       "4  /0S1N/oRyxGLZlzxnW5rOjfo0ZAls9EH23ahuDNuqz8=  201506     205      49   \n",
       "5  qB/zteXKaOk3hzFCoIUD6wrTp57hnreDX4Vvon25MfM=  201509      52      10   \n",
       "6  7btpXOqzA1ggOggSW81L05zDYyDjO7dXgmwZVzYmI2Q=  201610     159      53   \n",
       "7  kgEhriAqTydVKQ1xn+ZzKQzf4sQ1aod5zcEg5ksyWrE=  201609      88      13   \n",
       "8  8uQ6M7OzdWsuzo0BRZ6siIPZfBoG43bRvlm+My36B6k=  201509      62      27   \n",
       "9  T2gUhlBhFMoSFA9jFI/BkuyE/EPA6oneabYQiGBy9wU=  201702      36      23   \n",
       "\n",
       "   num_75  num_985  num_100  num_unq  total_secs  \n",
       "0      14       29      704      827      184606  \n",
       "1       5        6      462      256      119439  \n",
       "2      49       34      668      891      204791  \n",
       "3       3        9      408      447      101186  \n",
       "4      23       21      225      489       69957  \n",
       "5      10       20      308      264       81703  \n",
       "6      30       43     1075      881      305353  \n",
       "7      14       13      588      325      159511  \n",
       "8      15        6     1389     1427      324691  \n",
       "9       5        9      216      241       56296  "
      ]
     },
     "execution_count": 16,
     "metadata": {},
     "output_type": "execute_result"
    }
   ],
   "source": [
    "user_logs_df.head(10)"
   ]
  },
  {
   "cell_type": "code",
   "execution_count": null,
   "metadata": {},
   "outputs": [
    {
     "name": "stdout",
     "output_type": "stream",
     "text": [
      "Col num_25 is actually integer? True\n",
      "Converting to integer\n",
      "Col num_50 is actually integer? True\n",
      "Converting to integer\n",
      "Col num_75 is actually integer? True\n",
      "Converting to integer\n",
      "Col num_985 is actually integer? True\n",
      "Converting to integer\n",
      "Col num_100 is actually integer? True\n",
      "Converting to integer\n",
      "Col num_unq is actually integer? True\n",
      "Converting to integer\n",
      "Col total_secs is actually integer? False\n"
     ]
    }
   ],
   "source": [
    "# # Checking if all float fields are, actually, integers\n",
    "# cols = [\n",
    "#     'num_25',\n",
    "#     'num_50',\n",
    "#     'num_75',\n",
    "#     'num_985',\n",
    "#     'num_100',\n",
    "#     'num_unq',\n",
    "#     'total_secs',\n",
    "# ]\n",
    "# for c in cols:\n",
    "#     is_int = check_if_float_field_is_integer(user_logs_df, c)\n",
    "#     print(f'Col {c} is actually integer? {is_int}')\n",
    "    \n",
    "#     if is_int:\n",
    "#         print(f'Converting to integer')\n",
    "#         user_logs_df[c] = user_logs_df[c].astype(int)"
   ]
  },
  {
   "cell_type": "code",
   "execution_count": 9,
   "metadata": {},
   "outputs": [
    {
     "data": {
      "text/plain": [
       "msno           object\n",
       "safra           int32\n",
       "num_25          int64\n",
       "num_50          int64\n",
       "num_75          int64\n",
       "num_985         int64\n",
       "num_100         int64\n",
       "num_unq         int64\n",
       "total_secs    float64\n",
       "dtype: object"
      ]
     },
     "execution_count": 9,
     "metadata": {},
     "output_type": "execute_result"
    }
   ],
   "source": [
    "user_logs_df.dtypes"
   ]
  },
  {
   "cell_type": "code",
   "execution_count": 10,
   "metadata": {},
   "outputs": [
    {
     "data": {
      "text/plain": [
       "num_25\n",
       "0       1381992\n",
       "1       1175935\n",
       "2        849489\n",
       "3        685660\n",
       "4        581587\n",
       "         ...   \n",
       "4467          1\n",
       "5792          1\n",
       "3877          1\n",
       "6233          1\n",
       "6277          1\n",
       "Name: count, Length: 4891, dtype: int64"
      ]
     },
     "execution_count": 10,
     "metadata": {},
     "output_type": "execute_result"
    }
   ],
   "source": [
    "user_logs_df.num_25.value_counts()"
   ]
  },
  {
   "cell_type": "code",
   "execution_count": null,
   "metadata": {},
   "outputs": [],
   "source": [
    "user_logs_by_user = user_logs_df.groupby('msno')"
   ]
  },
  {
   "cell_type": "code",
   "execution_count": 10,
   "metadata": {},
   "outputs": [
    {
     "ename": "",
     "evalue": "",
     "output_type": "error",
     "traceback": [
      "\u001b[1;31mThe Kernel crashed while executing code in the current cell or a previous cell. \n",
      "\u001b[1;31mPlease review the code in the cell(s) to identify a possible cause of the failure. \n",
      "\u001b[1;31mClick <a href='https://aka.ms/vscodeJupyterKernelCrash'>here</a> for more info. \n",
      "\u001b[1;31mView Jupyter <a href='command:jupyter.viewOutput'>log</a> for further details."
     ]
    }
   ],
   "source": [
    "def preferred_listen_time_calc(row: pd.Series):\n",
    "    columns = ['num_25', 'num_50', 'num_75', 'num_985', 'num_100']\n",
    "    values = list(\n",
    "        map(\n",
    "            lambda c: row[c], columns\n",
    "        )\n",
    "    )\n",
    "\n",
    "    print(row)\n",
    "    print(row['num_25'])\n",
    "    print(values)\n",
    "    max_val = max(values)\n",
    "\n",
    "    for c in columns:\n",
    "        if row[c] == max_val:\n",
    "            return c.replace('num_', '')\n",
    "\n",
    "    return '?'\n",
    "\n",
    "\n",
    "user_logs_by_user['preferred_listen_time'] = user_logs_by_user.apply(\n",
    "    preferred_listen_time_calc\n",
    ")"
   ]
  },
  {
   "cell_type": "code",
   "execution_count": null,
   "metadata": {},
   "outputs": [],
   "source": [
    "user_logs_by_user.head()"
   ]
  },
  {
   "cell_type": "code",
   "execution_count": 17,
   "metadata": {},
   "outputs": [
    {
     "data": {
      "text/plain": [
       "([<matplotlib.axis.YTick at 0x7f28e070e0f0>,\n",
       "  <matplotlib.axis.YTick at 0x7f28d33dc2f0>,\n",
       "  <matplotlib.axis.YTick at 0x7f28e05df560>,\n",
       "  <matplotlib.axis.YTick at 0x7f28e05df4d0>,\n",
       "  <matplotlib.axis.YTick at 0x7f28e06f6ae0>],\n",
       " [Text(0, 0, '0.000'),\n",
       "  Text(0, 1, '0.000'),\n",
       "  Text(0, 100, '0.000'),\n",
       "  Text(0, 1000, '0.001'),\n",
       "  Text(0, 1000000, '1.000')])"
      ]
     },
     "execution_count": 17,
     "metadata": {},
     "output_type": "execute_result"
    },
    {
     "data": {
      "image/png": "[encoded data removed]",
      "text/plain": [
       "<Figure size 640x480 with 1 Axes>"
      ]
     },
     "metadata": {},
     "output_type": "display_data"
    }
   ],
   "source": [
    "# Plot histogram with bins of 10,000\n",
    "# Add labels and title\n",
    "steps = 100\n",
    "user_logs_df['num_25'].hist(\n",
    "    bins=range(0, user_logs_df['num_25'].max(), steps),\n",
    "    edgecolor='black'\n",
    ")\n",
    "\n",
    "# plt.xlabel('Value Ranges')\n",
    "# plt.ylabel('Count')\n",
    "# plt.title('Count of Values in Each 10,000 Range Bin')\n",
    "# plt.xticks(range(0, user_logs_df['num_25'].max() + steps, steps))\n",
    "# plt.show()"
   ]
  }
 ],
 "metadata": {
  "kernelspec": {
   "display_name": "Python 3",
   "language": "python",
   "name": "python3"
  },
  "language_info": {
   "codemirror_mode": {
    "name": "ipython",
    "version": 3
   },
   "file_extension": ".py",
   "mimetype": "text/x-python",
   "name": "python",
   "nbconvert_exporter": "python",
   "pygments_lexer": "ipython3",
   "version": "3.12.9"
  }
 },
 "nbformat": 4,
 "nbformat_minor": 2
}
